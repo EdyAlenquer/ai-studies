{
 "cells": [
  {
   "cell_type": "markdown",
   "metadata": {},
   "source": [
    "# Recurrent Neural Networks\n",
    "Using an LSTM to predict the origin of names."
   ]
  },
  {
   "cell_type": "code",
   "execution_count": 1,
   "metadata": {},
   "outputs": [
    {
     "name": "stdout",
     "output_type": "stream",
     "text": [
      "Device: cuda\n"
     ]
    }
   ],
   "source": [
    "import numpy as np\n",
    "import torch\n",
    "from torch import nn\n",
    "import requests\n",
    "import zipfile\n",
    "from io import BytesIO\n",
    "import unicodedata\n",
    "from sklearn.preprocessing import LabelEncoder\n",
    "from sklearn.model_selection import train_test_split\n",
    "import matplotlib.pyplot as plt\n",
    "import string\n",
    "\n",
    "\n",
    "device = 'cuda' if torch.cuda.is_available() else 'cpu'\n",
    "print('Device:', device)"
   ]
  },
  {
   "cell_type": "markdown",
   "metadata": {},
   "source": [
    "## Data Processing"
   ]
  },
  {
   "cell_type": "markdown",
   "metadata": {},
   "source": [
    "### Collecting data"
   ]
  },
  {
   "cell_type": "code",
   "execution_count": 2,
   "metadata": {},
   "outputs": [
    {
     "name": "stderr",
     "output_type": "stream",
     "text": [
      "/usr/local/lib/python3.10/dist-packages/urllib3/connectionpool.py:1099: InsecureRequestWarning: Unverified HTTPS request is being made to host 'download.pytorch.org'. Adding certificate verification is strongly advised. See: https://urllib3.readthedocs.io/en/latest/advanced-usage.html#tls-warnings\n",
      "  warnings.warn(\n"
     ]
    }
   ],
   "source": [
    "# Extract data\n",
    "response = requests.get(\n",
    "    'https://download.pytorch.org/tutorial/data.zip',\n",
    "    verify=False\n",
    ")\n",
    "\n",
    "data, labels = [], []\n",
    "with zipfile.ZipFile(BytesIO(response.content)) as zfile:\n",
    "    for filename in [\n",
    "        f \n",
    "        for f in zfile.namelist() \n",
    "        if f.endswith('.txt') and f.startswith('data/names')\n",
    "    ]:\n",
    "        with zfile.open(filename) as file:\n",
    "            lines = file.read().decode('utf-8').strip().split('\\n')\n",
    "            names = [\n",
    "                unicodedata.normalize(\n",
    "                    'NFKD', \n",
    "                    line\n",
    "                ).encode('ascii', 'ignore').decode('utf-8')\n",
    "                for line in lines\n",
    "            ]\n",
    "            category = filename.split('/')[-1].split('.')[0]\n",
    "            temp_labels = np.repeat(category, len(names))\n",
    "            \n",
    "            data.extend(names)\n",
    "            labels.extend(temp_labels)\n",
    "            "
   ]
  },
  {
   "cell_type": "markdown",
   "metadata": {},
   "source": [
    "### Label Encoding"
   ]
  },
  {
   "cell_type": "code",
   "execution_count": 3,
   "metadata": {},
   "outputs": [
    {
     "data": {
      "text/plain": [
       "array([['Arabic', '0'],\n",
       "       ['Chinese', '1'],\n",
       "       ['Czech', '2'],\n",
       "       ['Dutch', '3'],\n",
       "       ['English', '4'],\n",
       "       ['French', '5'],\n",
       "       ['German', '6'],\n",
       "       ['Greek', '7'],\n",
       "       ['Irish', '8'],\n",
       "       ['Italian', '9'],\n",
       "       ['Japanese', '10'],\n",
       "       ['Korean', '11'],\n",
       "       ['Polish', '12'],\n",
       "       ['Portuguese', '13'],\n",
       "       ['Russian', '14'],\n",
       "       ['Scottish', '15'],\n",
       "       ['Spanish', '16'],\n",
       "       ['Vietnamese', '17']], dtype='<U21')"
      ]
     },
     "execution_count": 3,
     "metadata": {},
     "output_type": "execute_result"
    }
   ],
   "source": [
    "label_encoder = LabelEncoder()\n",
    "encoded_labels = label_encoder.fit_transform(labels)\n",
    "categories = label_encoder.classes_\n",
    "\n",
    "def label_to_tensor(label, encoder):\n",
    "    label = label if isinstance(label, list) else [label]\n",
    "    return torch.LongTensor(\n",
    "        encoder.transform(label).reshape(-1, 1)\n",
    "    ).to(device)\n",
    "\n",
    "np.vstack([categories, label_encoder.transform(categories)]).T"
   ]
  },
  {
   "cell_type": "markdown",
   "metadata": {},
   "source": [
    "### Name Encoding"
   ]
  },
  {
   "cell_type": "code",
   "execution_count": 4,
   "metadata": {},
   "outputs": [
    {
     "data": {
      "text/plain": [
       "tensor([[0., 0., 0., 0., 0., 0., 0., 0., 0., 0., 0., 0., 0., 0., 0., 0., 0., 0.,\n",
       "         0., 0., 0., 0., 0., 0., 0., 0., 0., 0., 0., 0., 1., 0., 0., 0., 0., 0.,\n",
       "         0., 0., 0., 0., 0., 0., 0., 0., 0., 0., 0., 0., 0., 0., 0., 0., 0., 0.,\n",
       "         0., 0., 0., 0., 0., 0., 0., 0., 0., 0., 0., 0., 0., 0., 0., 0.],\n",
       "        [0., 0., 0., 1., 0., 0., 0., 0., 0., 0., 0., 0., 0., 0., 0., 0., 0., 0.,\n",
       "         0., 0., 0., 0., 0., 0., 0., 0., 0., 0., 0., 0., 0., 0., 0., 0., 0., 0.,\n",
       "         0., 0., 0., 0., 0., 0., 0., 0., 0., 0., 0., 0., 0., 0., 0., 0., 0., 0.,\n",
       "         0., 0., 0., 0., 0., 0., 0., 0., 0., 0., 0., 0., 0., 0., 0., 0.],\n",
       "        [0., 0., 0., 0., 0., 0., 0., 0., 0., 0., 0., 0., 0., 0., 0., 0., 0., 0.,\n",
       "         0., 0., 0., 0., 0., 0., 1., 0., 0., 0., 0., 0., 0., 0., 0., 0., 0., 0.,\n",
       "         0., 0., 0., 0., 0., 0., 0., 0., 0., 0., 0., 0., 0., 0., 0., 0., 0., 0.,\n",
       "         0., 0., 0., 0., 0., 0., 0., 0., 0., 0., 0., 0., 0., 0., 0., 0.]],\n",
       "       device='cuda:0')"
      ]
     },
     "execution_count": 4,
     "metadata": {},
     "output_type": "execute_result"
    }
   ],
   "source": [
    "dictionary = string.ascii_letters + \" .,;'-/:\" + '0123456789'\n",
    "\n",
    "def name_to_tensor(name):\n",
    "    tensor = torch.zeros(len(name), len(dictionary)).to(device)\n",
    "    for i, char in enumerate(name):\n",
    "        try:\n",
    "            tensor[i][dictionary.index(char)] = 1\n",
    "        except:\n",
    "            raise ValueError(f'Character {char} not in dictionary')\n",
    "    return tensor\n",
    "\n",
    "name_to_tensor('Edy')"
   ]
  },
  {
   "cell_type": "markdown",
   "metadata": {},
   "source": [
    "### Balancing Classes Within Each Batch"
   ]
  },
  {
   "cell_type": "code",
   "execution_count": 6,
   "metadata": {},
   "outputs": [],
   "source": [
    "def sample_batch(data, labels, encoder, size):\n",
    "    data = data.copy()\n",
    "    labels = labels.copy()\n",
    "    \n",
    "    data_batch, labels_batch = [], []\n",
    "\n",
    "    categories, _ = np.unique(labels, return_counts=True)\n",
    "\n",
    "    for cat in categories:\n",
    "        idxs_cat = [i for i, l in enumerate(labels) if l == cat]\n",
    "\n",
    "        selected_idx = np.random.choice(idxs_cat, size=size, replace=True)\n",
    "\n",
    "        \n",
    "        data_sample = np.array(data)[selected_idx]\n",
    "        labels_sample = np.array(labels)[selected_idx]      \n",
    "        \n",
    "        data_batch.extend(data_sample)\n",
    "        labels_batch.extend(labels_sample)\n",
    "\n",
    "    \n",
    "    data_tns = [name_to_tensor(d) for d in data_batch]\n",
    "    labels_tns = label_to_tensor(labels_batch, encoder=encoder)\n",
    "    return data_tns, labels_tns\n",
    "\n",
    "data_batch, rotulos_batch = sample_batch(\n",
    "  data, labels, encoder=label_encoder, size=32\n",
    ")"
   ]
  },
  {
   "cell_type": "markdown",
   "metadata": {},
   "source": [
    "## LSTM"
   ]
  },
  {
   "cell_type": "code",
   "execution_count": 7,
   "metadata": {},
   "outputs": [],
   "source": [
    "# Definition of the RNN model\n",
    "class LSTM(nn.Module):\n",
    "    def __init__(self, input_size, hidden_size, output_size):\n",
    "        super(LSTM, self).__init__()\n",
    "\n",
    "        self.hidden_size = hidden_size\n",
    "        self.recurrent = nn.GRU(input_size, hidden_size)\n",
    "        self.output = nn.Linear(hidden_size, output_size)\n",
    "        self.activation = nn.LogSoftmax(dim=1)\n",
    "\n",
    "    def forward(self, name):\n",
    "        \n",
    "        h = torch.zeros(1, 1, self.hidden_size).to(device)\n",
    "    \n",
    "        name = name.unsqueeze(1)\n",
    "\n",
    "        output, h = self.recurrent(name, h)\n",
    "        output = self.output(output[-1])\n",
    "        output = self.activation(output)\n",
    "\n",
    "        return output"
   ]
  },
  {
   "cell_type": "code",
   "execution_count": 8,
   "metadata": {},
   "outputs": [],
   "source": [
    "def forward(\n",
    "        model, \n",
    "        criterion, \n",
    "        optimizer, \n",
    "        data, \n",
    "        labels,\n",
    "        is_train=True\n",
    "    ):\n",
    "\n",
    "    if is_train:\n",
    "        model.train()\n",
    "    else:\n",
    "        model.eval()\n",
    "\n",
    "    loss_epoca = []\n",
    "\n",
    "    for name, label in zip(data, labels):\n",
    "        output = model(name)\n",
    "        loss = criterion(output, label)\n",
    "        loss_epoca.append(loss.detach().cpu().numpy())\n",
    "\n",
    "        if is_train:\n",
    "            optimizer.zero_grad()\n",
    "            loss.backward()\n",
    "            optimizer.step()\n",
    "\n",
    "    return np.array(loss_epoca).mean(), np.array(loss_epoca).std()"
   ]
  },
  {
   "cell_type": "markdown",
   "metadata": {},
   "source": [
    "### Training and Testing"
   ]
  },
  {
   "cell_type": "code",
   "execution_count": 9,
   "metadata": {},
   "outputs": [
    {
     "name": "stdout",
     "output_type": "stream",
     "text": [
      "--------------------------------------------------\n",
      "Epoch 001\n",
      "|> Loss Train: 2.9300 +/- 0.1054\n",
      "|> Loss Test: 2.8773 +/- 0.0567\n",
      "--------------------------------------------------\n",
      "Epoch 011\n",
      "|> Loss Train: 2.6948 +/- 0.3600\n",
      "|> Loss Test: 2.6793 +/- 0.8354\n",
      "--------------------------------------------------\n",
      "Epoch 021\n",
      "|> Loss Train: 2.4955 +/- 0.5525\n",
      "|> Loss Test: 2.4868 +/- 0.6981\n",
      "--------------------------------------------------\n",
      "Epoch 031\n",
      "|> Loss Train: 2.3043 +/- 0.7210\n",
      "|> Loss Test: 2.2760 +/- 0.7758\n",
      "--------------------------------------------------\n",
      "Epoch 041\n",
      "|> Loss Train: 2.1216 +/- 0.8287\n",
      "|> Loss Test: 2.2008 +/- 0.9030\n",
      "--------------------------------------------------\n",
      "Epoch 051\n",
      "|> Loss Train: 2.0648 +/- 0.9195\n",
      "|> Loss Test: 2.2087 +/- 1.1755\n",
      "--------------------------------------------------\n",
      "Epoch 061\n",
      "|> Loss Train: 1.9209 +/- 0.9862\n",
      "|> Loss Test: 1.8074 +/- 1.1342\n",
      "--------------------------------------------------\n",
      "Epoch 071\n",
      "|> Loss Train: 1.7680 +/- 0.9422\n",
      "|> Loss Test: 1.7629 +/- 1.1699\n",
      "--------------------------------------------------\n",
      "Epoch 081\n",
      "|> Loss Train: 1.6868 +/- 1.0391\n",
      "|> Loss Test: 1.7092 +/- 1.2376\n",
      "--------------------------------------------------\n",
      "Epoch 091\n",
      "|> Loss Train: 1.5855 +/- 1.0119\n",
      "|> Loss Test: 1.6992 +/- 1.2666\n",
      "--------------------------------------------------\n",
      "Epoch 101\n",
      "|> Loss Train: 1.4618 +/- 0.9878\n",
      "|> Loss Test: 1.5040 +/- 1.2884\n",
      "--------------------------------------------------\n",
      "Epoch 111\n",
      "|> Loss Train: 1.4364 +/- 1.1480\n",
      "|> Loss Test: 1.5470 +/- 1.2931\n",
      "--------------------------------------------------\n",
      "Epoch 121\n",
      "|> Loss Train: 1.3268 +/- 1.0911\n",
      "|> Loss Test: 1.4578 +/- 1.3439\n",
      "--------------------------------------------------\n",
      "Epoch 131\n",
      "|> Loss Train: 1.3649 +/- 1.1469\n",
      "|> Loss Test: 1.3677 +/- 1.3233\n",
      "--------------------------------------------------\n",
      "Epoch 141\n",
      "|> Loss Train: 1.3333 +/- 1.1776\n",
      "|> Loss Test: 1.3614 +/- 1.3565\n",
      "--------------------------------------------------\n",
      "Epoch 151\n",
      "|> Loss Train: 1.1416 +/- 1.0652\n",
      "|> Loss Test: 1.2939 +/- 1.3647\n",
      "--------------------------------------------------\n",
      "Epoch 161\n",
      "|> Loss Train: 1.1669 +/- 1.1186\n",
      "|> Loss Test: 1.3446 +/- 1.3863\n",
      "--------------------------------------------------\n",
      "Epoch 171\n",
      "|> Loss Train: 1.1690 +/- 1.0953\n",
      "|> Loss Test: 1.2609 +/- 1.3554\n",
      "--------------------------------------------------\n",
      "Epoch 181\n",
      "|> Loss Train: 1.0256 +/- 1.0508\n",
      "|> Loss Test: 1.2209 +/- 1.3986\n",
      "--------------------------------------------------\n",
      "Epoch 191\n",
      "|> Loss Train: 1.0608 +/- 1.0353\n",
      "|> Loss Test: 1.1882 +/- 1.4195\n"
     ]
    }
   ],
   "source": [
    "model = LSTM(len(dictionary), 512, len(categories))\n",
    "model.to(device)\n",
    "\n",
    "criterion = nn.NLLLoss().to(device)\n",
    "optim_parameters = {\n",
    "    'lr': 5e-5,\n",
    "    'weight_decay': 1e-7\n",
    "}\n",
    "optimizer = torch.optim.Adam(model.parameters(), **optim_parameters)\n",
    "\n",
    "X_train, X_test, y_train, y_test = train_test_split(data, labels, test_size=0.2)\n",
    "\n",
    "X_test_tns = [name_to_tensor(d) for d in X_test]\n",
    "y_test_tns = label_to_tensor(y_test, encoder=label_encoder)\n",
    "\n",
    "\n",
    "loss_train, loss_test = [], []\n",
    "for epoch in range(200):\n",
    "    X_train_batch, y_train_batch = sample_batch(data, labels, label_encoder, 32)\n",
    "    \n",
    "    loss_train_avg, loss_train_std = forward(\n",
    "        model, \n",
    "        criterion, \n",
    "        optimizer, \n",
    "        X_train_batch, \n",
    "        y_train_batch\n",
    "    )\n",
    "    loss_train.append(loss_train_avg)\n",
    "    \n",
    "    loss_test_mean, loss_test_std = forward(\n",
    "        model, \n",
    "        criterion, \n",
    "        optimizer, \n",
    "        X_test_tns, \n",
    "        y_test_tns, \n",
    "        is_train=False\n",
    "    )\n",
    "    loss_test.append(loss_test_mean)\n",
    "    \n",
    "    if epoch % 10 == 0:\n",
    "        print('-' * 50)\n",
    "        print(f'Epoch {epoch+1:03d}')\n",
    "        print(f'|> Loss Train: {loss_train_avg:.4f} +/- {loss_train_std:.4f}')\n",
    "        print(f'|> Loss Test: {loss_test_mean:.4f} +/- {loss_test_std:.4f}')"
   ]
  },
  {
   "cell_type": "code",
   "execution_count": 10,
   "metadata": {},
   "outputs": [
    {
     "data": {
      "image/png": "[encoded data removed]",
      "text/plain": [
       "<Figure size 1000x600 with 1 Axes>"
      ]
     },
     "metadata": {},
     "output_type": "display_data"
    }
   ],
   "source": [
    "# Looking at the following plot, we can see that the model could continue \n",
    "# training to improve its performance. It seems that it has not reached \n",
    "# convergence yet.\n",
    "plt.figure(figsize=(10, 6))\n",
    "plt.plot(loss_train, label='Train')\n",
    "plt.plot(loss_test, label='Test')\n",
    "plt.legend()\n",
    "plt.show()"
   ]
  }
 ],
 "metadata": {
  "kernelspec": {
   "display_name": "modelagem_principal",
   "language": "python",
   "name": "python3"
  },
  "language_info": {
   "codemirror_mode": {
    "name": "ipython",
    "version": 3
   },
   "file_extension": ".py",
   "mimetype": "text/x-python",
   "name": "python",
   "nbconvert_exporter": "python",
   "pygments_lexer": "ipython3",
   "version": "3.10.12"
  }
 },
 "nbformat": 4,
 "nbformat_minor": 2
}
