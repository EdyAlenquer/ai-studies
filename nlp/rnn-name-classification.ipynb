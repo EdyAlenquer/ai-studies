{
 "cells": [
  {
   "cell_type": "code",
   "execution_count": null,
   "metadata": {},
   "outputs": [],
   "source": []
  },
  {
   "cell_type": "code",
   "execution_count": 2,
   "metadata": {},
   "outputs": [
    {
     "name": "stdout",
     "output_type": "stream",
     "text": [
      "Device: cuda\n"
     ]
    }
   ],
   "source": [
    "import numpy as np\n",
    "import torch\n",
    "from torch import nn\n",
    "import requests\n",
    "import zipfile\n",
    "from io import BytesIO\n",
    "import unicodedata\n",
    "from sklearn.preprocessing import LabelEncoder\n",
    "import string\n",
    "\n",
    "device = 'cuda' if torch.cuda.is_available() else 'cpu'\n",
    "print('Device:', device)"
   ]
  },
  {
   "cell_type": "markdown",
   "metadata": {},
   "source": [
    "## Collecting data"
   ]
  },
  {
   "cell_type": "code",
   "execution_count": 3,
   "metadata": {},
   "outputs": [],
   "source": [
    "# Extract data\n",
    "response = requests.get('https://download.pytorch.org/tutorial/data.zip')\n",
    "\n",
    "data, labels = [], []\n",
    "with zipfile.ZipFile(BytesIO(response.content)) as zfile:\n",
    "    for filename in [\n",
    "        f \n",
    "        for f in zfile.namelist() \n",
    "        if f.endswith('.txt') and f.startswith('data/names')\n",
    "    ]:\n",
    "        with zfile.open(filename) as file:\n",
    "            lines = file.read().decode('utf-8').strip().split('\\n')\n",
    "            names = [\n",
    "                unicodedata.normalize(\n",
    "                    'NFKD', \n",
    "                    line\n",
    "                ).encode('ascii', 'ignore').decode('utf-8')\n",
    "                for line in lines\n",
    "            ]\n",
    "            category = filename.split('/')[-1].split('.')[0]\n",
    "            temp_labels = np.repeat(category, len(names))\n",
    "            \n",
    "            data.extend(names)\n",
    "            labels.extend(temp_labels)\n",
    "            "
   ]
  },
  {
   "cell_type": "markdown",
   "metadata": {},
   "source": [
    "## Label Encoding"
   ]
  },
  {
   "cell_type": "code",
   "execution_count": 4,
   "metadata": {},
   "outputs": [
    {
     "data": {
      "text/plain": [
       "array([['Arabic', '0'],\n",
       "       ['Chinese', '1'],\n",
       "       ['Czech', '2'],\n",
       "       ['Dutch', '3'],\n",
       "       ['English', '4'],\n",
       "       ['French', '5'],\n",
       "       ['German', '6'],\n",
       "       ['Greek', '7'],\n",
       "       ['Irish', '8'],\n",
       "       ['Italian', '9'],\n",
       "       ['Japanese', '10'],\n",
       "       ['Korean', '11'],\n",
       "       ['Polish', '12'],\n",
       "       ['Portuguese', '13'],\n",
       "       ['Russian', '14'],\n",
       "       ['Scottish', '15'],\n",
       "       ['Spanish', '16'],\n",
       "       ['Vietnamese', '17']], dtype='<U21')"
      ]
     },
     "execution_count": 4,
     "metadata": {},
     "output_type": "execute_result"
    }
   ],
   "source": [
    "label_encoder = LabelEncoder()\n",
    "encoded_labels = label_encoder.fit_transform(labels)\n",
    "\n",
    "def label2tensor(label):\n",
    "    return torch.LongTensor(\n",
    "        label_encoder.transform([label])\n",
    "    ).to(device)\n",
    "\n",
    "np.vstack([\n",
    "    label_encoder.classes_,\n",
    "    label_encoder.transform(label_encoder.classes_)\n",
    "]).T"
   ]
  },
  {
   "cell_type": "markdown",
   "metadata": {},
   "source": [
    "## Name Encoding"
   ]
  },
  {
   "cell_type": "code",
   "execution_count": 6,
   "metadata": {},
   "outputs": [
    {
     "data": {
      "text/plain": [
       "tensor([[[0., 0., 0., 0., 0., 0., 0., 0., 0., 0., 0., 0., 0., 0., 0., 0., 0.,\n",
       "          0., 0., 0., 0., 0., 0., 0., 0., 0., 0., 0., 0., 0., 1., 0., 0., 0.,\n",
       "          0., 0., 0., 0., 0., 0., 0., 0., 0., 0., 0., 0., 0., 0., 0., 0., 0.,\n",
       "          0., 0., 0., 0., 0., 0., 0.]],\n",
       "\n",
       "        [[0., 0., 0., 1., 0., 0., 0., 0., 0., 0., 0., 0., 0., 0., 0., 0., 0.,\n",
       "          0., 0., 0., 0., 0., 0., 0., 0., 0., 0., 0., 0., 0., 0., 0., 0., 0.,\n",
       "          0., 0., 0., 0., 0., 0., 0., 0., 0., 0., 0., 0., 0., 0., 0., 0., 0.,\n",
       "          0., 0., 0., 0., 0., 0., 0.]],\n",
       "\n",
       "        [[0., 0., 0., 0., 0., 0., 0., 0., 0., 0., 0., 0., 0., 0., 0., 0., 0.,\n",
       "          0., 0., 0., 0., 0., 0., 0., 1., 0., 0., 0., 0., 0., 0., 0., 0., 0.,\n",
       "          0., 0., 0., 0., 0., 0., 0., 0., 0., 0., 0., 0., 0., 0., 0., 0., 0.,\n",
       "          0., 0., 0., 0., 0., 0., 0.]]], device='cuda:0')"
      ]
     },
     "execution_count": 6,
     "metadata": {},
     "output_type": "execute_result"
    }
   ],
   "source": [
    "dictionary = string.ascii_letters + \" .,;'-\"\n",
    "\n",
    "\n",
    "def name2tensor(name):\n",
    "    tensor = torch.zeros(len(name), 1, len(dictionary)).to(device)\n",
    "    for i, char in enumerate(name):\n",
    "        tensor[i][0][dictionary.index(char)] = 1\n",
    "    return tensor\n",
    "\n",
    "name2tensor('Edy')"
   ]
  },
  {
   "cell_type": "code",
   "execution_count": null,
   "metadata": {},
   "outputs": [],
   "source": []
  }
 ],
 "metadata": {
  "kernelspec": {
   "display_name": "Python 3",
   "language": "python",
   "name": "python3"
  },
  "language_info": {
   "codemirror_mode": {
    "name": "ipython",
    "version": 3
   },
   "file_extension": ".py",
   "mimetype": "text/x-python",
   "name": "python",
   "nbconvert_exporter": "python",
   "pygments_lexer": "ipython3",
   "version": "3.10.12"
  }
 },
 "nbformat": 4,
 "nbformat_minor": 2
}
