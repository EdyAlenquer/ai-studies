{
 "cells": [
  {
   "cell_type": "markdown",
   "metadata": {},
   "source": [
    "# Recurrent Neural Networks\n",
    "Using an RNN cell to predict the origin of names."
   ]
  },
  {
   "cell_type": "code",
   "execution_count": 1,
   "metadata": {},
   "outputs": [
    {
     "name": "stdout",
     "output_type": "stream",
     "text": [
      "Device: cuda\n"
     ]
    }
   ],
   "source": [
    "import numpy as np\n",
    "import torch\n",
    "from torch import nn\n",
    "import requests\n",
    "import zipfile\n",
    "from io import BytesIO\n",
    "import unicodedata\n",
    "from sklearn.preprocessing import LabelEncoder\n",
    "from sklearn.model_selection import train_test_split\n",
    "import matplotlib.pyplot as plt\n",
    "import string\n",
    "\n",
    "\n",
    "device = 'cuda' if torch.cuda.is_available() else 'cpu'\n",
    "print('Device:', device)"
   ]
  },
  {
   "cell_type": "markdown",
   "metadata": {},
   "source": [
    "## Data Processing"
   ]
  },
  {
   "cell_type": "markdown",
   "metadata": {},
   "source": [
    "### Collecting data"
   ]
  },
  {
   "cell_type": "code",
   "execution_count": 2,
   "metadata": {},
   "outputs": [
    {
     "name": "stderr",
     "output_type": "stream",
     "text": [
      "/usr/local/lib/python3.10/dist-packages/urllib3/connectionpool.py:1099: InsecureRequestWarning: Unverified HTTPS request is being made to host 'download.pytorch.org'. Adding certificate verification is strongly advised. See: https://urllib3.readthedocs.io/en/latest/advanced-usage.html#tls-warnings\n",
      "  warnings.warn(\n"
     ]
    }
   ],
   "source": [
    "# Extract data\n",
    "response = requests.get(\n",
    "    'https://download.pytorch.org/tutorial/data.zip',\n",
    "    verify=False\n",
    ")\n",
    "\n",
    "data, labels = [], []\n",
    "with zipfile.ZipFile(BytesIO(response.content)) as zfile:\n",
    "    for filename in [\n",
    "        f \n",
    "        for f in zfile.namelist() \n",
    "        if f.endswith('.txt') and f.startswith('data/names')\n",
    "    ]:\n",
    "        with zfile.open(filename) as file:\n",
    "            lines = file.read().decode('utf-8').strip().split('\\n')\n",
    "            names = [\n",
    "                unicodedata.normalize(\n",
    "                    'NFKD', \n",
    "                    line\n",
    "                ).encode('ascii', 'ignore').decode('utf-8')\n",
    "                for line in lines\n",
    "            ]\n",
    "            category = filename.split('/')[-1].split('.')[0]\n",
    "            temp_labels = np.repeat(category, len(names))\n",
    "            \n",
    "            data.extend(names)\n",
    "            labels.extend(temp_labels)\n",
    "            "
   ]
  },
  {
   "cell_type": "markdown",
   "metadata": {},
   "source": [
    "### Label Encoding"
   ]
  },
  {
   "cell_type": "code",
   "execution_count": 3,
   "metadata": {},
   "outputs": [
    {
     "data": {
      "text/plain": [
       "array([['Arabic', '0'],\n",
       "       ['Chinese', '1'],\n",
       "       ['Czech', '2'],\n",
       "       ['Dutch', '3'],\n",
       "       ['English', '4'],\n",
       "       ['French', '5'],\n",
       "       ['German', '6'],\n",
       "       ['Greek', '7'],\n",
       "       ['Irish', '8'],\n",
       "       ['Italian', '9'],\n",
       "       ['Japanese', '10'],\n",
       "       ['Korean', '11'],\n",
       "       ['Polish', '12'],\n",
       "       ['Portuguese', '13'],\n",
       "       ['Russian', '14'],\n",
       "       ['Scottish', '15'],\n",
       "       ['Spanish', '16'],\n",
       "       ['Vietnamese', '17']], dtype='<U21')"
      ]
     },
     "execution_count": 3,
     "metadata": {},
     "output_type": "execute_result"
    }
   ],
   "source": [
    "label_encoder = LabelEncoder()\n",
    "encoded_labels = label_encoder.fit_transform(labels)\n",
    "categories = label_encoder.classes_\n",
    "\n",
    "def label_to_tensor(label, encoder):\n",
    "    label = label if isinstance(label, list) else [label]\n",
    "    return torch.LongTensor(\n",
    "        encoder.transform(label).reshape(-1, 1)\n",
    "    ).to(device)\n",
    "\n",
    "np.vstack([categories, label_encoder.transform(categories)]).T"
   ]
  },
  {
   "cell_type": "markdown",
   "metadata": {},
   "source": [
    "### Name Encoding"
   ]
  },
  {
   "cell_type": "code",
   "execution_count": 4,
   "metadata": {},
   "outputs": [
    {
     "data": {
      "text/plain": [
       "tensor([[0., 0., 0., 0., 0., 0., 0., 0., 0., 0., 0., 0., 0., 0., 0., 0., 0., 0.,\n",
       "         0., 0., 0., 0., 0., 0., 0., 0., 0., 0., 0., 0., 1., 0., 0., 0., 0., 0.,\n",
       "         0., 0., 0., 0., 0., 0., 0., 0., 0., 0., 0., 0., 0., 0., 0., 0., 0., 0.,\n",
       "         0., 0., 0., 0., 0., 0., 0., 0., 0., 0., 0., 0., 0., 0., 0., 0.],\n",
       "        [0., 0., 0., 1., 0., 0., 0., 0., 0., 0., 0., 0., 0., 0., 0., 0., 0., 0.,\n",
       "         0., 0., 0., 0., 0., 0., 0., 0., 0., 0., 0., 0., 0., 0., 0., 0., 0., 0.,\n",
       "         0., 0., 0., 0., 0., 0., 0., 0., 0., 0., 0., 0., 0., 0., 0., 0., 0., 0.,\n",
       "         0., 0., 0., 0., 0., 0., 0., 0., 0., 0., 0., 0., 0., 0., 0., 0.],\n",
       "        [0., 0., 0., 0., 0., 0., 0., 0., 0., 0., 0., 0., 0., 0., 0., 0., 0., 0.,\n",
       "         0., 0., 0., 0., 0., 0., 1., 0., 0., 0., 0., 0., 0., 0., 0., 0., 0., 0.,\n",
       "         0., 0., 0., 0., 0., 0., 0., 0., 0., 0., 0., 0., 0., 0., 0., 0., 0., 0.,\n",
       "         0., 0., 0., 0., 0., 0., 0., 0., 0., 0., 0., 0., 0., 0., 0., 0.]],\n",
       "       device='cuda:0')"
      ]
     },
     "execution_count": 4,
     "metadata": {},
     "output_type": "execute_result"
    }
   ],
   "source": [
    "dictionary = string.ascii_letters + \" .,;'-/:\" + '0123456789'\n",
    "\n",
    "def name_to_tensor(name):\n",
    "    tensor = torch.zeros(len(name), len(dictionary)).to(device)\n",
    "    for i, char in enumerate(name):\n",
    "        try:\n",
    "            tensor[i][dictionary.index(char)] = 1\n",
    "        except:\n",
    "            raise ValueError(f'Character {char} not in dictionary')\n",
    "    return tensor\n",
    "\n",
    "name_to_tensor('Edy')"
   ]
  },
  {
   "cell_type": "markdown",
   "metadata": {},
   "source": [
    "### Balancing Classes Within Each Batch"
   ]
  },
  {
   "cell_type": "code",
   "execution_count": 5,
   "metadata": {},
   "outputs": [],
   "source": [
    "def sample_batch(data, labels, encoder, size):\n",
    "    data = data.copy()\n",
    "    labels = labels.copy()\n",
    "    \n",
    "    data_batch, labels_batch = [], []\n",
    "\n",
    "    categories, _ = np.unique(labels, return_counts=True)\n",
    "\n",
    "    for cat in categories:\n",
    "        idxs_cat = [i for i, l in enumerate(labels) if l == cat]\n",
    "\n",
    "        selected_idx = np.random.choice(idxs_cat, size=size, replace=True)\n",
    "\n",
    "        \n",
    "        data_sample = np.array(data)[selected_idx]\n",
    "        labels_sample = np.array(labels)[selected_idx]      \n",
    "        \n",
    "        data_batch.extend(data_sample)\n",
    "        labels_batch.extend(labels_sample)\n",
    "\n",
    "    \n",
    "    data_tns = [name_to_tensor(d) for d in data_batch]\n",
    "    labels_tns = label_to_tensor(labels_batch, encoder=encoder)\n",
    "    return data_tns, labels_tns\n",
    "\n",
    "data_batch, rotulos_batch = sample_batch(\n",
    "  data, labels, encoder=label_encoder, size=32\n",
    ")"
   ]
  },
  {
   "cell_type": "markdown",
   "metadata": {},
   "source": [
    "## RNN Cell"
   ]
  },
  {
   "cell_type": "code",
   "execution_count": 6,
   "metadata": {},
   "outputs": [],
   "source": [
    "# Definition of the RNN model\n",
    "class RNN(nn.Module):\n",
    "    def __init__(self, input_size, hidden_size, output_size):\n",
    "        super(RNN, self).__init__()\n",
    "\n",
    "        self.hidden_size = hidden_size\n",
    "        self.recurrent = nn.RNNCell(input_size, hidden_size)\n",
    "        self.output = nn.Linear(hidden_size, output_size)\n",
    "        self.activation = nn.LogSoftmax(dim=1)\n",
    "\n",
    "    def forward(self, name):\n",
    "        h = torch.zeros(1, self.hidden_size).to(device)\n",
    "        \n",
    "        for char in name:\n",
    "            h = self.recurrent(char.unsqueeze(0), h)\n",
    "        \n",
    "        output =self.output(h)\n",
    "        output = self.activation(output)\n",
    "\n",
    "        return output"
   ]
  },
  {
   "cell_type": "code",
   "execution_count": 7,
   "metadata": {},
   "outputs": [],
   "source": [
    "def forward(\n",
    "        model, \n",
    "        criterion, \n",
    "        optimizer, \n",
    "        data, \n",
    "        labels,\n",
    "        is_train=True\n",
    "    ):\n",
    "\n",
    "    if is_train:\n",
    "        model.train()\n",
    "    else:\n",
    "        model.eval()\n",
    "\n",
    "    loss_epoca = []\n",
    "\n",
    "    for name, label in zip(data, labels):\n",
    "        output = model(name)\n",
    "        loss = criterion(output, label)\n",
    "        loss_epoca.append(loss.detach().cpu().numpy())\n",
    "\n",
    "        if is_train:\n",
    "            optimizer.zero_grad()\n",
    "            loss.backward()\n",
    "            optimizer.step()\n",
    "\n",
    "    return np.array(loss_epoca).mean(), np.array(loss_epoca).std()"
   ]
  },
  {
   "cell_type": "markdown",
   "metadata": {},
   "source": [
    "### Training and Testing"
   ]
  },
  {
   "cell_type": "code",
   "execution_count": 8,
   "metadata": {},
   "outputs": [
    {
     "name": "stdout",
     "output_type": "stream",
     "text": [
      "--------------------------------------------------\n",
      "Epoch 001\n",
      "|> Loss Train: 2.8396 +/- 0.4426\n",
      "|> Loss Test: 2.9087 +/- 0.4667\n",
      "--------------------------------------------------\n",
      "Epoch 011\n",
      "|> Loss Train: 2.6338 +/- 0.5969\n",
      "|> Loss Test: 2.9835 +/- 0.7015\n",
      "--------------------------------------------------\n",
      "Epoch 021\n",
      "|> Loss Train: 2.2879 +/- 0.8565\n",
      "|> Loss Test: 2.8031 +/- 1.2365\n",
      "--------------------------------------------------\n",
      "Epoch 031\n",
      "|> Loss Train: 2.2828 +/- 0.9521\n",
      "|> Loss Test: 2.7628 +/- 1.3810\n",
      "--------------------------------------------------\n",
      "Epoch 041\n",
      "|> Loss Train: 2.2896 +/- 0.8950\n",
      "|> Loss Test: 2.8232 +/- 1.3104\n",
      "--------------------------------------------------\n",
      "Epoch 051\n",
      "|> Loss Train: 2.1995 +/- 0.8911\n",
      "|> Loss Test: 2.7373 +/- 1.4156\n",
      "--------------------------------------------------\n",
      "Epoch 061\n",
      "|> Loss Train: 2.1714 +/- 0.9214\n",
      "|> Loss Test: 2.4938 +/- 0.9133\n",
      "--------------------------------------------------\n",
      "Epoch 071\n",
      "|> Loss Train: 2.1194 +/- 1.0271\n",
      "|> Loss Test: 2.4216 +/- 1.0324\n",
      "--------------------------------------------------\n",
      "Epoch 081\n",
      "|> Loss Train: 2.0337 +/- 0.9744\n",
      "|> Loss Test: 2.2343 +/- 1.0695\n",
      "--------------------------------------------------\n",
      "Epoch 091\n",
      "|> Loss Train: 1.8672 +/- 1.0186\n",
      "|> Loss Test: 2.4943 +/- 1.3509\n",
      "--------------------------------------------------\n",
      "Epoch 101\n",
      "|> Loss Train: 1.9462 +/- 1.0982\n",
      "|> Loss Test: 2.0482 +/- 1.1977\n",
      "--------------------------------------------------\n",
      "Epoch 111\n",
      "|> Loss Train: 1.8177 +/- 1.0520\n",
      "|> Loss Test: 1.9911 +/- 1.2977\n",
      "--------------------------------------------------\n",
      "Epoch 121\n",
      "|> Loss Train: 1.8295 +/- 1.1164\n",
      "|> Loss Test: 1.8885 +/- 1.1774\n",
      "--------------------------------------------------\n",
      "Epoch 131\n",
      "|> Loss Train: 1.8514 +/- 1.2113\n",
      "|> Loss Test: 1.8509 +/- 1.2778\n",
      "--------------------------------------------------\n",
      "Epoch 141\n",
      "|> Loss Train: 1.6946 +/- 1.0983\n",
      "|> Loss Test: 1.7786 +/- 1.3198\n",
      "--------------------------------------------------\n",
      "Epoch 151\n",
      "|> Loss Train: 1.6618 +/- 1.1371\n",
      "|> Loss Test: 1.7820 +/- 1.2840\n",
      "--------------------------------------------------\n",
      "Epoch 161\n",
      "|> Loss Train: 1.5607 +/- 1.0835\n",
      "|> Loss Test: 1.6784 +/- 1.3163\n",
      "--------------------------------------------------\n",
      "Epoch 171\n",
      "|> Loss Train: 1.6102 +/- 1.1561\n",
      "|> Loss Test: 1.5645 +/- 1.3149\n",
      "--------------------------------------------------\n",
      "Epoch 181\n",
      "|> Loss Train: 1.4843 +/- 1.1735\n",
      "|> Loss Test: 1.7123 +/- 1.3714\n",
      "--------------------------------------------------\n",
      "Epoch 191\n",
      "|> Loss Train: 1.5180 +/- 1.2319\n",
      "|> Loss Test: 1.6228 +/- 1.3771\n"
     ]
    }
   ],
   "source": [
    "model = RNN(len(dictionary), 512, len(categories))\n",
    "model.to(device)\n",
    "\n",
    "criterion = nn.NLLLoss().to(device)\n",
    "optim_parameters = {\n",
    "    'lr': 5e-5,\n",
    "    'weight_decay': 1e-7\n",
    "}\n",
    "optimizer = torch.optim.Adam(model.parameters(), **optim_parameters)\n",
    "\n",
    "X_train, X_test, y_train, y_test = train_test_split(data, labels, test_size=0.2)\n",
    "\n",
    "X_test_tns = [name_to_tensor(d) for d in X_test]\n",
    "y_test_tns = label_to_tensor(y_test, encoder=label_encoder)\n",
    "\n",
    "\n",
    "loss_train, loss_test = [], []\n",
    "for epoch in range(200):\n",
    "    X_train_batch, y_train_batch = sample_batch(data, labels, label_encoder, 32)\n",
    "    \n",
    "    loss_train_avg, loss_train_std = forward(\n",
    "        model, \n",
    "        criterion, \n",
    "        optimizer, \n",
    "        X_train_batch, \n",
    "        y_train_batch\n",
    "    )\n",
    "    loss_train.append(loss_train_avg)\n",
    "    \n",
    "    loss_test_mean, loss_test_std = forward(\n",
    "        model, \n",
    "        criterion, \n",
    "        optimizer, \n",
    "        X_test_tns, \n",
    "        y_test_tns, \n",
    "        is_train=False\n",
    "    )\n",
    "    loss_test.append(loss_test_mean)\n",
    "    \n",
    "    if epoch % 10 == 0:\n",
    "        print('-' * 50)\n",
    "        print(f'Epoch {epoch+1:03d}')\n",
    "        print(f'|> Loss Train: {loss_train_avg:.4f} +/- {loss_train_std:.4f}')\n",
    "        print(f'|> Loss Test: {loss_test_mean:.4f} +/- {loss_test_std:.4f}')"
   ]
  },
  {
   "cell_type": "code",
   "execution_count": 11,
   "metadata": {},
   "outputs": [
    {
     "data": {
      "image/png": "[encoded data removed]",
      "text/plain": [
       "<Figure size 1000x600 with 1 Axes>"
      ]
     },
     "metadata": {},
     "output_type": "display_data"
    }
   ],
   "source": [
    "# Looking at the following plot, we can see that the model could continue \n",
    "# training to improve its performance. It seems that it has not reached \n",
    "# convergence yet.\n",
    "plt.figure(figsize=(10, 6))\n",
    "plt.plot(loss_train, label='Train')\n",
    "plt.plot(loss_test, label='Test')\n",
    "plt.legend()\n",
    "plt.show()"
   ]
  }
 ],
 "metadata": {
  "kernelspec": {
   "display_name": "modelagem_principal",
   "language": "python",
   "name": "python3"
  },
  "language_info": {
   "codemirror_mode": {
    "name": "ipython",
    "version": 3
   },
   "file_extension": ".py",
   "mimetype": "text/x-python",
   "name": "python",
   "nbconvert_exporter": "python",
   "pygments_lexer": "ipython3",
   "version": "3.10.12"
  }
 },
 "nbformat": 4,
 "nbformat_minor": 2
}
