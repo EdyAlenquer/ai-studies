{
 "cells": [
  {
   "cell_type": "markdown",
   "metadata": {},
   "source": [
    "# RetrievalQA"
   ]
  },
  {
   "cell_type": "markdown",
   "metadata": {},
   "source": [
    "## Imports"
   ]
  },
  {
   "cell_type": "code",
   "execution_count": 46,
   "metadata": {},
   "outputs": [],
   "source": [
    "import os\n",
    "from dotenv import load_dotenv\n",
    "from langchain.globals import set_debug\n",
    "from langchain.chains import RetrievalQA\n",
    "from langchain_openai import ChatOpenAI\n",
    "from langchain_openai import OpenAIEmbeddings\n",
    "from langchain_community.document_loaders import PyPDFLoader\n",
    "from langchain_community.vectorstores import FAISS\n",
    "from langchain_text_splitters import CharacterTextSplitter\n",
    "\n",
    "load_dotenv()\n",
    "set_debug(True)"
   ]
  },
  {
   "cell_type": "markdown",
   "metadata": {},
   "source": [
    "## Code"
   ]
  },
  {
   "cell_type": "code",
   "execution_count": 47,
   "metadata": {},
   "outputs": [],
   "source": [
    "llm = ChatOpenAI(\n",
    "    model=\"gpt-3.5-turbo\",\n",
    "    temperature=0.5,\n",
    "    api_key=os.getenv(\"OPENAI_API_KEY\")\n",
    ")"
   ]
  },
  {
   "cell_type": "code",
   "execution_count": 48,
   "metadata": {},
   "outputs": [
    {
     "data": {
      "text/plain": [
       "[Document(metadata={'source': 'assets/edy-resume.pdf', 'page': 0}, page_content='Edyvalberty Alenquer  \\nData Scientist | Machine Learning Engineer  \\n \\n \\nContact  \\nAddress: 4 Street, No 120 , Fortaleza – Ceará - BR \\nPhone: +55 (85) 99977 -5684  \\nE-mail: edyalenquer@gmail.com'),\n",
       " Document(metadata={'source': 'assets/edy-resume.pdf', 'page': 0}, page_content=\"E-mail: edyalenquer@gmail.com  \\n \\n \\nSummary  \\nI'm a Data Scientist with over 9 years of experience in predictive modeling, machine learning, and data analytics,\"),\n",
       " Document(metadata={'source': 'assets/edy-resume.pdf', 'page': 0}, page_content='holding a master’s degree in Modeling and Quantitative Methods with a focus on Machine Learning. I specialize in'),\n",
       " Document(metadata={'source': 'assets/edy-resume.pdf', 'page': 0}, page_content='building high -performance ma chine learning models, including a default risk classification model optimized for'),\n",
       " Document(metadata={'source': 'assets/edy-resume.pdf', 'page': 0}, page_content='imbalanced datasets, using tools like Python, Scikit -Learn, PyTorch, and Optuna. My expertise extends to'),\n",
       " Document(metadata={'source': 'assets/edy-resume.pdf', 'page': 0}, page_content='deploying models in production, automating model and data pipelines,  and leveraging optimization methods for'),\n",
       " Document(metadata={'source': 'assets/edy-resume.pdf', 'page': 0}, page_content='enhanced performance. I also have experience in Natural Language Processing (NLP) and Large Language'),\n",
       " Document(metadata={'source': 'assets/edy-resume.pdf', 'page': 0}, page_content='Models (LLMs), further expanding my skillset in cutting -edge AI technologies. I have a solid foundation in data'),\n",
       " Document(metadata={'source': 'assets/edy-resume.pdf', 'page': 0}, page_content='manipulation with Pandas, NumPy, and SQL, along with experience in developing solutions that improve'),\n",
       " Document(metadata={'source': 'assets/edy-resume.pdf', 'page': 0}, page_content='operational efficiency. I’m eager to leverage deep technical knowledge and continuously learn to tackle \\nchallenges across diverse industries and explore new application areas.  \\n \\nExperience'),\n",
       " Document(metadata={'source': 'assets/edy-resume.pdf', 'page': 0}, page_content='Experience  \\nBanco do Nordeste do Brasil (Bank of Northeast Brazil)  \\nNovember 2019 – present  \\nData Scientist'),\n",
       " Document(metadata={'source': 'assets/edy-resume.pdf', 'page': 0}, page_content='November 2019 – present  \\nData Scientist  \\nDeveloped numerous high -performance machine learning models for banking applications, optimizing for'),\n",
       " Document(metadata={'source': 'assets/edy-resume.pdf', 'page': 0}, page_content='imbalanced datasets and handling end -to-end processes from data collection to deployment. Consistently'),\n",
       " Document(metadata={'source': 'assets/edy-resume.pdf', 'page': 0}, page_content='improved key performance metrics and implemented aut omated pipelines, driving efficiency and setting new \\nperformance benchmarks across various projects.'),\n",
       " Document(metadata={'source': 'assets/edy-resume.pdf', 'page': 0}, page_content='Technologies used:  Python, Scikit -Learn, Pandas, NumPy, Scipy, Statsmodels, GBM frameworks, PyTorch, \\nOptuna, Docker, SQL, Spark, MLFlow and Git.'),\n",
       " Document(metadata={'source': 'assets/edy-resume.pdf', 'page': 0}, page_content='Optuna, Docker, SQL, Spark, MLFlow and Git.  \\n \\n \\nBanco do Nordeste do Brasil (Bank of Northeast Brazil)  \\nMarch 2018 – October 2019  \\nData Scientist / Data Analyst'),\n",
       " Document(metadata={'source': 'assets/edy-resume.pdf', 'page': 0}, page_content='Data Scientist / Data Analyst  \\n \\nImproved data accuracy and operational efficiency by developing solutions for data validation, audit tracking, and'),\n",
       " Document(metadata={'source': 'assets/edy-resume.pdf', 'page': 0}, page_content='web scraping. These efforts reduced inconsistencies and enhanced the integrity of both internal and publicly'),\n",
       " Document(metadata={'source': 'assets/edy-resume.pdf', 'page': 0}, page_content='available information across multiple processes. Additionally, participated in the de velopment of the methodology,'),\n",
       " Document(metadata={'source': 'assets/edy-resume.pdf', 'page': 1}, page_content='coding, and deployment of an employee evaluation system for the Human Resources department, further \\noptimizing internal processes.'),\n",
       " Document(metadata={'source': 'assets/edy-resume.pdf', 'page': 1}, page_content='optimizing internal processes.  \\n \\nTechnologies used:  Python, SQL, Pandas, NumPy, Scikit -Learn, Scipy, Statsmodels, Node.js (with ElectronJS), \\nVuejs, Excel, PowerBI, Spark, MLFlow and Git.'),\n",
       " Document(metadata={'source': 'assets/edy-resume.pdf', 'page': 1}, page_content='Banco do Nordeste do Brasil (Bank of Northeast Brazil)  \\nFebruary  2015 – February  2018  \\nData Analyst'),\n",
       " Document(metadata={'source': 'assets/edy-resume.pdf', 'page': 1}, page_content='February  2015 – February  2018  \\nData Analyst  \\n \\nAutomated management report generation and routine tasks in the HR department, leading to significant time'),\n",
       " Document(metadata={'source': 'assets/edy-resume.pdf', 'page': 1}, page_content='savings and improved overall productivity. Developed numerous SQL queries to enhance system integration and'),\n",
       " Document(metadata={'source': 'assets/edy-resume.pdf', 'page': 1}, page_content='support various business processes. Additionally, generated multiple dashboards to provide actionable insights \\nand streamline decis ion-making processes.'),\n",
       " Document(metadata={'source': 'assets/edy-resume.pdf', 'page': 1}, page_content='and streamline decis ion-making processes.  \\n \\nTechnologies used:  Python, SQL, Pandas, Flask, Scikit -Learn, Node.js (with ElectronJS), Excel, and PowerBI.  \\n \\n \\nCourses and Trainings'),\n",
       " Document(metadata={'source': 'assets/edy-resume.pdf', 'page': 1}, page_content='Courses and Trainings  \\n- Machine Learning Foundations with Cloud (AWS) - 2024  \\n- Generative AI with LLM (DeepLearning.AI) - 2024  \\n- Cloud Computing Fundamentals (Google) - 2024'),\n",
       " Document(metadata={'source': 'assets/edy-resume.pdf', 'page': 1}, page_content='- Cloud Computing Fundamentals (Google) - 2024  \\n- Neural Networks and Deep Learning (DeepLearning.AI) - 2024  \\n- Sample -based Learning Methods (Alberta University) - 2023'),\n",
       " Document(metadata={'source': 'assets/edy-resume.pdf', 'page': 1}, page_content='- Reinforcement Learning (Alberta University) - 2022  \\n- Machine Learning (Stanford University) – 2022  \\n- Statistical Formation with Python (Alura) – 2021'),\n",
       " Document(metadata={'source': 'assets/edy-resume.pdf', 'page': 1}, page_content='- Artificial Intelligence Certification (Huawei) – 2021  \\n- Data Science Formation (Alura) – 2021  \\n- Python for Data Science (IBM) – 2021  \\n- C# and .Net Formation (Faculdade Evolução) – 2018'),\n",
       " Document(metadata={'source': 'assets/edy-resume.pdf', 'page': 1}, page_content='Education  \\nMaster’s Degree in Modeling and Quantitative Methods   \\nFederal University of Ceará  \\n2021  – 2023  \\n \\nSpecialization in Software Engineering  \\nState University of Ceará'),\n",
       " Document(metadata={'source': 'assets/edy-resume.pdf', 'page': 1}, page_content='State University of Ceará  \\n2018  – 2019  \\n \\nBachelor’s Degree in Computer Engineering  \\nUNINTER International University Center  \\n2019  – 2024'),\n",
       " Document(metadata={'source': 'assets/edy-resume.pdf', 'page': 2}, page_content='Bachelor’s Degree in Financial Management  \\nEstácio de Sá University  \\n2015 – 2017  \\n \\nBachelor’s Degree in Industrial Mathematics  \\nFederal University of Ceará'),\n",
       " Document(metadata={'source': 'assets/edy-resume.pdf', 'page': 2}, page_content='Federal University of Ceará  \\n2012 – 2015  (completed 6 semesters; course interrupted)  \\n \\n \\nKey Skills  \\n- Machine Learning : Expertise in developing and deploying high -performance models.'),\n",
       " Document(metadata={'source': 'assets/edy-resume.pdf', 'page': 2}, page_content='- Statistical Analysis and Modeling : Strong foundation in statistical methods to support model development.'),\n",
       " Document(metadata={'source': 'assets/edy-resume.pdf', 'page': 2}, page_content='- Programming : Proficiency in Python, SQL, and frameworks like Scikit -Learn, and PyTorch.  \\n- Data Manipulation and Visualization : Advanced skills with Pandas, NumPy, and visualization tools for'),\n",
       " Document(metadata={'source': 'assets/edy-resume.pdf', 'page': 2}, page_content='insightful reporting.  \\n- Model Deployment and Automation : Experience in deploying models and automating pipelines using \\nAirflow, MLFlow, Docker and other tools.'),\n",
       " Document(metadata={'source': 'assets/edy-resume.pdf', 'page': 2}, page_content='Airflow, MLFlow, Docker and other tools.  \\n- Optimization Techniques : Skilled in optimization methods to enhance model performance.'),\n",
       " Document(metadata={'source': 'assets/edy-resume.pdf', 'page': 2}, page_content='- Continuous Learning and Passion for Data Science : Eager to stay updated on the latest advancements \\nand technologies.')]"
      ]
     },
     "execution_count": 48,
     "metadata": {},
     "output_type": "execute_result"
    }
   ],
   "source": [
    "splitter = CharacterTextSplitter(separator='\\n', chunk_size=200, chunk_overlap=50)\n",
    "\n",
    "loaders = [\n",
    "    PyPDFLoader('assets/edy-resume.pdf')\n",
    "]\n",
    "\n",
    "texts = sum([d.load_and_split(splitter) for d in loaders], [])"
   ]
  },
  {
   "cell_type": "code",
   "execution_count": 49,
   "metadata": {},
   "outputs": [
    {
     "data": {
      "text/plain": [
       "<langchain_community.vectorstores.faiss.FAISS at 0x7ff080bec790>"
      ]
     },
     "execution_count": 49,
     "metadata": {},
     "output_type": "execute_result"
    }
   ],
   "source": [
    "embeddings = OpenAIEmbeddings()\n",
    "db = FAISS.from_documents(texts, embeddings)"
   ]
  },
  {
   "cell_type": "code",
   "execution_count": 50,
   "metadata": {},
   "outputs": [
    {
     "name": "stdout",
     "output_type": "stream",
     "text": [
      "\u001b[32;1m\u001b[1;3m[chain/start]\u001b[0m \u001b[1m[chain:RetrievalQA] Entering Chain run with input:\n",
      "\u001b[0m{\n",
      "  \"query\": \"What course(s) did Edyvalberty complete in 2022?\"\n",
      "}\n",
      "\u001b[32;1m\u001b[1;3m[chain/start]\u001b[0m \u001b[1m[chain:RetrievalQA > chain:StuffDocumentsChain] Entering Chain run with input:\n",
      "\u001b[0m[inputs]\n",
      "\u001b[32;1m\u001b[1;3m[chain/start]\u001b[0m \u001b[1m[chain:RetrievalQA > chain:StuffDocumentsChain > chain:LLMChain] Entering Chain run with input:\n",
      "\u001b[0m{\n",
      "  \"question\": \"What course(s) did Edyvalberty complete in 2022?\",\n",
      "  \"context\": \"- Reinforcement Learning (Alberta University) - 2022  \\n- Machine Learning (Stanford University) – 2022  \\n- Statistical Formation with Python (Alura) – 2021\\n\\nEdyvalberty Alenquer  \\nData Scientist | Machine Learning Engineer  \\n \\n \\nContact  \\nAddress: 4 Street, No 120 , Fortaleza – Ceará - BR \\nPhone: +55 (85) 99977 -5684  \\nE-mail: edyalenquer@gmail.com\\n\\n- Artificial Intelligence Certification (Huawei) – 2021  \\n- Data Science Formation (Alura) – 2021  \\n- Python for Data Science (IBM) – 2021  \\n- C# and .Net Formation (Faculdade Evolução) – 2018\\n\\nBachelor’s Degree in Financial Management  \\nEstácio de Sá University  \\n2015 – 2017  \\n \\nBachelor’s Degree in Industrial Mathematics  \\nFederal University of Ceará\"\n",
      "}\n",
      "\u001b[32;1m\u001b[1;3m[llm/start]\u001b[0m \u001b[1m[chain:RetrievalQA > chain:StuffDocumentsChain > chain:LLMChain > llm:ChatOpenAI] Entering LLM run with input:\n",
      "\u001b[0m{\n",
      "  \"prompts\": [\n",
      "    \"System: Use the following pieces of context to answer the user's question. \\nIf you don't know the answer, just say that you don't know, don't try to make up an answer.\\n----------------\\n- Reinforcement Learning (Alberta University) - 2022  \\n- Machine Learning (Stanford University) – 2022  \\n- Statistical Formation with Python (Alura) – 2021\\n\\nEdyvalberty Alenquer  \\nData Scientist | Machine Learning Engineer  \\n \\n \\nContact  \\nAddress: 4 Street, No 120 , Fortaleza – Ceará - BR \\nPhone: +55 (85) 99977 -5684  \\nE-mail: edyalenquer@gmail.com\\n\\n- Artificial Intelligence Certification (Huawei) – 2021  \\n- Data Science Formation (Alura) – 2021  \\n- Python for Data Science (IBM) – 2021  \\n- C# and .Net Formation (Faculdade Evolução) – 2018\\n\\nBachelor’s Degree in Financial Management  \\nEstácio de Sá University  \\n2015 – 2017  \\n \\nBachelor’s Degree in Industrial Mathematics  \\nFederal University of Ceará\\nHuman: What course(s) did Edyvalberty complete in 2022?\"\n",
      "  ]\n",
      "}\n",
      "\u001b[36;1m\u001b[1;3m[llm/end]\u001b[0m \u001b[1m[chain:RetrievalQA > chain:StuffDocumentsChain > chain:LLMChain > llm:ChatOpenAI] [911ms] Exiting LLM run with output:\n",
      "\u001b[0m{\n",
      "  \"generations\": [\n",
      "    [\n",
      "      {\n",
      "        \"text\": \"Edyvalberty completed the following course(s) in 2022:\\n- Reinforcement Learning (Alberta University)\\n- Machine Learning (Stanford University)\",\n",
      "        \"generation_info\": {\n",
      "          \"finish_reason\": \"stop\",\n",
      "          \"logprobs\": null\n",
      "        },\n",
      "        \"type\": \"ChatGeneration\",\n",
      "        \"message\": {\n",
      "          \"lc\": 1,\n",
      "          \"type\": \"constructor\",\n",
      "          \"id\": [\n",
      "            \"langchain\",\n",
      "            \"schema\",\n",
      "            \"messages\",\n",
      "            \"AIMessage\"\n",
      "          ],\n",
      "          \"kwargs\": {\n",
      "            \"content\": \"Edyvalberty completed the following course(s) in 2022:\\n- Reinforcement Learning (Alberta University)\\n- Machine Learning (Stanford University)\",\n",
      "            \"additional_kwargs\": {\n",
      "              \"refusal\": null\n",
      "            },\n",
      "            \"response_metadata\": {\n",
      "              \"token_usage\": {\n",
      "                \"completion_tokens\": 33,\n",
      "                \"prompt_tokens\": 266,\n",
      "                \"total_tokens\": 299,\n",
      "                \"completion_tokens_details\": {\n",
      "                  \"reasoning_tokens\": 0\n",
      "                }\n",
      "              },\n",
      "              \"model_name\": \"gpt-3.5-turbo-0125\",\n",
      "              \"system_fingerprint\": null,\n",
      "              \"finish_reason\": \"stop\",\n",
      "              \"logprobs\": null\n",
      "            },\n",
      "            \"type\": \"ai\",\n",
      "            \"id\": \"run-5b883adb-193d-4323-b2da-ba539003cc0d-0\",\n",
      "            \"usage_metadata\": {\n",
      "              \"input_tokens\": 266,\n",
      "              \"output_tokens\": 33,\n",
      "              \"total_tokens\": 299\n",
      "            },\n",
      "            \"tool_calls\": [],\n",
      "            \"invalid_tool_calls\": []\n",
      "          }\n",
      "        }\n",
      "      }\n",
      "    ]\n",
      "  ],\n",
      "  \"llm_output\": {\n",
      "    \"token_usage\": {\n",
      "      \"completion_tokens\": 33,\n",
      "      \"prompt_tokens\": 266,\n",
      "      \"total_tokens\": 299,\n",
      "      \"completion_tokens_details\": {\n",
      "        \"reasoning_tokens\": 0\n",
      "      }\n",
      "    },\n",
      "    \"model_name\": \"gpt-3.5-turbo-0125\",\n",
      "    \"system_fingerprint\": null\n",
      "  },\n",
      "  \"run\": null,\n",
      "  \"type\": \"LLMResult\"\n",
      "}\n",
      "\u001b[36;1m\u001b[1;3m[chain/end]\u001b[0m \u001b[1m[chain:RetrievalQA > chain:StuffDocumentsChain > chain:LLMChain] [912ms] Exiting Chain run with output:\n",
      "\u001b[0m{\n",
      "  \"text\": \"Edyvalberty completed the following course(s) in 2022:\\n- Reinforcement Learning (Alberta University)\\n- Machine Learning (Stanford University)\"\n",
      "}\n",
      "\u001b[36;1m\u001b[1;3m[chain/end]\u001b[0m \u001b[1m[chain:RetrievalQA > chain:StuffDocumentsChain] [913ms] Exiting Chain run with output:\n",
      "\u001b[0m{\n",
      "  \"output_text\": \"Edyvalberty completed the following course(s) in 2022:\\n- Reinforcement Learning (Alberta University)\\n- Machine Learning (Stanford University)\"\n",
      "}\n",
      "\u001b[36;1m\u001b[1;3m[chain/end]\u001b[0m \u001b[1m[chain:RetrievalQA] [1.85s] Exiting Chain run with output:\n",
      "\u001b[0m{\n",
      "  \"result\": \"Edyvalberty completed the following course(s) in 2022:\\n- Reinforcement Learning (Alberta University)\\n- Machine Learning (Stanford University)\"\n",
      "}\n",
      "{'query': 'What course(s) did Edyvalberty complete in 2022?', 'result': 'Edyvalberty completed the following course(s) in 2022:\\n- Reinforcement Learning (Alberta University)\\n- Machine Learning (Stanford University)'}\n"
     ]
    }
   ],
   "source": [
    "qa_chain = RetrievalQA.from_chain_type(llm, retriever=db.as_retriever())\n",
    "\n",
    "question = \"What course(s) did Edyvalberty complete in 2022?\"\n",
    "response = qa_chain.invoke({\"query\": question})"
   ]
  },
  {
   "cell_type": "code",
   "execution_count": 51,
   "metadata": {},
   "outputs": [
    {
     "name": "stdout",
     "output_type": "stream",
     "text": [
      "Edyvalberty completed the following course(s) in 2022:\n",
      "- Reinforcement Learning (Alberta University)\n",
      "- Machine Learning (Stanford University)\n"
     ]
    }
   ],
   "source": [
    "print(response['result'])"
   ]
  }
 ],
 "metadata": {
  "kernelspec": {
   "display_name": "Python 3",
   "language": "python",
   "name": "python3"
  },
  "language_info": {
   "codemirror_mode": {
    "name": "ipython",
    "version": 3
   },
   "file_extension": ".py",
   "mimetype": "text/x-python",
   "name": "python",
   "nbconvert_exporter": "python",
   "pygments_lexer": "ipython3",
   "version": "3.10.12"
  }
 },
 "nbformat": 4,
 "nbformat_minor": 2
}
