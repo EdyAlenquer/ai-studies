{
 "cells": [
  {
   "cell_type": "markdown",
   "metadata": {},
   "source": [
    "# KNN\n"
   ]
  },
  {
   "cell_type": "markdown",
   "metadata": {},
   "source": [
    "# Imports"
   ]
  },
  {
   "cell_type": "code",
   "execution_count": 1,
   "metadata": {},
   "outputs": [],
   "source": [
    "import sys\n",
    "import numpy as np\n",
    "import matplotlib.pyplot as plt\n",
    "\n",
    "sys.path.append('../')\n",
    "\n",
    "from utils.preprocessing import train_test_split, kfolds_cross_validation\n",
    "from utils.output_utils import do_cv_and_get_metrics_classification\n",
    "from utils.scalers import MinMaxScaler\n",
    "from utils.metrics import accuracy, recall, precision, f1_score"
   ]
  },
  {
   "cell_type": "markdown",
   "metadata": {},
   "source": [
    "# Process"
   ]
  },
  {
   "cell_type": "code",
   "execution_count": 2,
   "metadata": {},
   "outputs": [
    {
     "name": "stdout",
     "output_type": "stream",
     "text": [
      "Shape: (522, 22)\n"
     ]
    }
   ],
   "source": [
    "data = np.genfromtxt('./data/kc2.csv', delimiter=',')\n",
    "print('Shape:', data.shape)\n",
    "data[:3, :]\n",
    "X = data[:, :-1]\n",
    "y = data[:, [-1]]"
   ]
  },
  {
   "cell_type": "code",
   "execution_count": 3,
   "metadata": {},
   "outputs": [
    {
     "name": "stdout",
     "output_type": "stream",
     "text": [
      "X_train shape: (417, 21)\n",
      "y_train shape: (417, 1)\n",
      "X_test shape: (105, 21)\n",
      "y_test shape: (105, 1)\n"
     ]
    }
   ],
   "source": [
    "X_train, X_test, y_train, y_test = train_test_split(\n",
    "    X, y, 0.8, random_seed=466852\n",
    ")\n",
    "\n",
    "print('X_train shape:', X_train.shape)\n",
    "print('y_train shape:', y_train.shape)\n",
    "print('X_test shape:', X_test.shape)\n",
    "print('y_test shape:', y_test.shape)\n"
   ]
  },
  {
   "cell_type": "code",
   "execution_count": 4,
   "metadata": {},
   "outputs": [],
   "source": [
    "class MyKNN():\n",
    "    def __init__(self, k_neighbours, distance='euclidian'):\n",
    "        self.fitted = False\n",
    "        self.K = k_neighbours\n",
    "        self.distance = distance\n",
    "\n",
    "    def get_cov_matrix(self):\n",
    "        \n",
    "        mu = np.mean(self.X, axis=0).reshape(-1, 1)\n",
    "        \n",
    "        n_features = self.X.shape[1]\n",
    "        n_rows = self.X.shape[0]\n",
    "        sigma=np.zeros((n_features, n_features))\n",
    "\n",
    "        for i in range(n_rows):\n",
    "            x_i = self.X[i,:].reshape(n_features, 1)\n",
    "            sigma += (x_i-mu) @ (x_i-mu).T\n",
    "\n",
    "        return sigma/(n_rows-1)\n",
    "\n",
    "    def euclidian_distance(self, i, j):\n",
    "        distances = np.sqrt(np.sum((i - j)**2, axis=1))\n",
    "        return distances.reshape(-1, 1)\n",
    "\n",
    "    def mahalanobis_distance(self, i, j, sigma_inv):\n",
    "        distances = np.sqrt(np.diag(np.dot(np.dot((i-j), sigma_inv), (i-j).T)))\n",
    "        return distances.reshape(-1, 1)\n",
    "\n",
    "    def fit(self, X, y):\n",
    "        self.X = X\n",
    "        self.y = y.reshape(-1, 1)\n",
    "\n",
    "    def get_more_frequently(self, arr):\n",
    "        unique, counts = np.unique(arr, return_counts=True)\n",
    "        return unique[np.argmax(counts)]\n",
    "\n",
    "    def predict(self, X):\n",
    "        preds = []\n",
    "        for i in range(len(X)):\n",
    "            if self.distance == 'euclidian':\n",
    "                self.distances = self.euclidian_distance(X[[i], :], self.X)\n",
    "            if self.distance == 'mahalanobis':\n",
    "                sigma_inv = np.linalg.pinv(np.cov(self.X.T))\n",
    "                sigma_inv = np.linalg.pinv(self.get_cov_matrix())\n",
    "                self.distances  = self.mahalanobis_distance(\n",
    "                    X[[i], :], \n",
    "                    self.X, \n",
    "                    sigma_inv\n",
    "                )\n",
    "                \n",
    "            knn = np.hstack([self.distances, self.y])\n",
    "            knn = knn[np.lexsort((knn[:,1], knn[:,0]))]\n",
    "            preds.append(self.get_more_frequently(knn[:self.K, 1]))\n",
    "\n",
    "        return np.array(preds).reshape(-1, 1)"
   ]
  },
  {
   "cell_type": "markdown",
   "metadata": {},
   "source": [
    "## K=5 and Euclidian Distance"
   ]
  },
  {
   "cell_type": "code",
   "execution_count": 5,
   "metadata": {},
   "outputs": [
    {
     "name": "stdout",
     "output_type": "stream",
     "text": [
      "#------------ My KNN - Euclidian Distance - K=5 -------------#\n",
      "\n",
      "--->\tTraining Metrics\n",
      "Accuracy Mean:     \t0.8756 | Accuracy Std:   \t0.0066\n",
      "Recall Mean:     \t0.5435 | Recall Std:       \t0.0214\n",
      "Precision Mean:     \t0.7791 | Precision Std:   \t0.0264\n",
      "F1 Score Mean:     \t0.6402 | F1 Score Std:   \t0.0215\n",
      "\n",
      "--->\tValidation Metrics\n",
      "Accuracy Mean:     \t0.8251 | Accuracy Std:   \t0.0332\n",
      "Recall Mean:     \t0.4503 | Recall Std:       \t0.1690\n",
      "Precision Mean:     \t0.5953 | Precision Std:   \t0.1372\n",
      "F1 Score Mean:     \t0.4915 | F1 Score Std:   \t0.1341\n",
      "\n",
      "--->\tTest Metrics\n",
      "Accuracy:     \t0.8476\n",
      "Recall:     \t0.4091\n",
      "Precision:     \t0.7500\n",
      "F1 Score:     \t0.5294\n"
     ]
    }
   ],
   "source": [
    "my_knn = MyKNN(5)\n",
    "\n",
    "cv_splits = kfolds_cross_validation(\n",
    "    data=X_train,\n",
    "    n_folds=10,\n",
    "    shuffle=True\n",
    ")\n",
    "\n",
    "do_cv_and_get_metrics_classification(\n",
    "    classifier=my_knn, \n",
    "    cv_splits=cv_splits, \n",
    "    X_train=X_train, \n",
    "    y_train=y_train,\n",
    "    X_test=X_test,\n",
    "    y_test=y_test,\n",
    "    scaler=MinMaxScaler(),\n",
    "    title=' My KNN - Euclidian Distance - K=5 '\n",
    ")"
   ]
  },
  {
   "cell_type": "code",
   "execution_count": 6,
   "metadata": {},
   "outputs": [
    {
     "name": "stdout",
     "output_type": "stream",
     "text": [
      "#---------- Sklearn KNN - Euclidian Distance - K=5 ----------#\n",
      "\n",
      "--->\tTraining Metrics\n",
      "Accuracy Mean:     \t0.8756 | Accuracy Std:   \t0.0066\n",
      "Recall Mean:     \t0.5435 | Recall Std:       \t0.0214\n",
      "Precision Mean:     \t0.7791 | Precision Std:   \t0.0264\n",
      "F1 Score Mean:     \t0.6402 | F1 Score Std:   \t0.0215\n",
      "\n",
      "--->\tValidation Metrics\n",
      "Accuracy Mean:     \t0.8251 | Accuracy Std:   \t0.0332\n",
      "Recall Mean:     \t0.4503 | Recall Std:       \t0.1690\n",
      "Precision Mean:     \t0.5953 | Precision Std:   \t0.1372\n",
      "F1 Score Mean:     \t0.4915 | F1 Score Std:   \t0.1341\n",
      "\n",
      "--->\tTest Metrics\n",
      "Accuracy:     \t0.8476\n",
      "Recall:     \t0.4091\n",
      "Precision:     \t0.7500\n",
      "F1 Score:     \t0.5294\n"
     ]
    }
   ],
   "source": [
    "# TO CHECK\n",
    "from sklearn.neighbors import KNeighborsClassifier\n",
    "sk_knn = KNeighborsClassifier(5)\n",
    "\n",
    "cv_splits = kfolds_cross_validation(\n",
    "    data=X_train,\n",
    "    n_folds=10,\n",
    "    shuffle=True\n",
    ")\n",
    "\n",
    "do_cv_and_get_metrics_classification(\n",
    "    classifier=sk_knn, \n",
    "    cv_splits=cv_splits, \n",
    "    X_train=X_train, \n",
    "    y_train=y_train,\n",
    "    X_test=X_test,\n",
    "    y_test=y_test,\n",
    "    scaler=MinMaxScaler(),\n",
    "    title=' Sklearn KNN - Euclidian Distance - K=5 '\n",
    ")"
   ]
  },
  {
   "cell_type": "markdown",
   "metadata": {},
   "source": [
    "## K=5 and Mahalanobis Distance"
   ]
  },
  {
   "cell_type": "code",
   "execution_count": 7,
   "metadata": {},
   "outputs": [
    {
     "name": "stdout",
     "output_type": "stream",
     "text": [
      "#----------- My KNN - Mahalanobis Distance - K=5 ------------#\n",
      "\n",
      "--->\tTraining Metrics\n",
      "Accuracy Mean:     \t0.8543 | Accuracy Std:   \t0.0078\n",
      "Recall Mean:     \t0.3958 | Recall Std:       \t0.0347\n",
      "Precision Mean:     \t0.7811 | Precision Std:   \t0.0276\n",
      "F1 Score Mean:     \t0.5246 | F1 Score Std:   \t0.0332\n",
      "\n",
      "--->\tValidation Metrics\n",
      "Accuracy Mean:     \t0.8417 | Accuracy Std:   \t0.0420\n",
      "Recall Mean:     \t0.3615 | Recall Std:       \t0.1368\n",
      "Precision Mean:     \t0.7171 | Precision Std:   \t0.2304\n",
      "F1 Score Mean:     \t0.4698 | F1 Score Std:   \t0.1649\n",
      "\n",
      "--->\tTest Metrics\n",
      "Accuracy:     \t0.8190\n",
      "Recall:     \t0.2273\n",
      "Precision:     \t0.7143\n",
      "F1 Score:     \t0.3448\n"
     ]
    }
   ],
   "source": [
    "my_knn = MyKNN(5, distance='mahalanobis')\n",
    "\n",
    "cv_splits = kfolds_cross_validation(\n",
    "    data=X_train,\n",
    "    n_folds=10,\n",
    "    shuffle=True\n",
    ")\n",
    "\n",
    "do_cv_and_get_metrics_classification(\n",
    "    classifier=my_knn, \n",
    "    cv_splits=cv_splits, \n",
    "    X_train=X_train, \n",
    "    y_train=y_train,\n",
    "    X_test=X_test,\n",
    "    y_test=y_test,\n",
    "    scaler=MinMaxScaler(),\n",
    "    title=' My KNN - Mahalanobis Distance - K=5 '\n",
    ")"
   ]
  },
  {
   "cell_type": "code",
   "execution_count": 8,
   "metadata": {},
   "outputs": [
    {
     "name": "stdout",
     "output_type": "stream",
     "text": [
      "SKLEARN - KNN with Mahalanobis Distance (To check)\n",
      "\n",
      "--->\tTest Metrics\n",
      "Accuracy:     \t0.8190\n",
      "Recall:     \t0.2273\n",
      "Precision:     \t0.7143\n",
      "F1 Score:     \t0.3448\n"
     ]
    }
   ],
   "source": [
    "# TO CHECK\n",
    "scaler = MinMaxScaler()\n",
    "X_train_scaled = scaler.fit_transform(X_train)\n",
    "\n",
    "sk_knn = KNeighborsClassifier(5, metric='mahalanobis', metric_params={'VI': np.linalg.pinv(np.cov(X_train_scaled.T))})\n",
    "\n",
    "sk_knn.fit(X_train_scaled, y_train.ravel())\n",
    "\n",
    "X_test_scaled = scaler.transform(X_test)\n",
    "y_test_pred = sk_knn.predict(X_test_scaled)\n",
    "\n",
    "print('SKLEARN - KNN with Mahalanobis Distance (To check)')\n",
    "print('\\n--->\\tTest Metrics')\n",
    "print('Accuracy:     \\t{0:.4f}'.format(accuracy(y_test, y_test_pred)))\n",
    "print('Recall:     \\t{0:.4f}'.format(recall(y_test, y_test_pred)))\n",
    "print('Precision:     \\t{0:.4f}'.format(precision(y_test, y_test_pred)))\n",
    "print('F1 Score:     \\t{0:.4f}'.format(f1_score(y_test, y_test_pred)))"
   ]
  },
  {
   "cell_type": "markdown",
   "metadata": {},
   "source": [
    "## K=1 and Euclidian Distance"
   ]
  },
  {
   "cell_type": "code",
   "execution_count": 9,
   "metadata": {},
   "outputs": [
    {
     "name": "stdout",
     "output_type": "stream",
     "text": [
      "#------------ My KNN - Euclidian Distance - K=1 -------------#\n",
      "\n",
      "--->\tTraining Metrics\n",
      "Accuracy Mean:     \t0.9832 | Accuracy Std:   \t0.0024\n",
      "Recall Mean:     \t0.9177 | Recall Std:       \t0.0113\n",
      "Precision Mean:     \t1.0000 | Precision Std:   \t0.0000\n",
      "F1 Score Mean:     \t0.9570 | F1 Score Std:   \t0.0061\n",
      "\n",
      "--->\tValidation Metrics\n",
      "Accuracy Mean:     \t0.8057 | Accuracy Std:   \t0.0438\n",
      "Recall Mean:     \t0.4610 | Recall Std:       \t0.1873\n",
      "Precision Mean:     \t0.5077 | Precision Std:   \t0.1680\n",
      "F1 Score Mean:     \t0.4743 | F1 Score Std:   \t0.1729\n",
      "\n",
      "--->\tTest Metrics\n",
      "Accuracy:     \t0.8190\n",
      "Recall:     \t0.5909\n",
      "Precision:     \t0.5652\n",
      "F1 Score:     \t0.5778\n"
     ]
    }
   ],
   "source": [
    "my_knn = MyKNN(1)\n",
    "\n",
    "cv_splits = kfolds_cross_validation(\n",
    "    data=X_train,\n",
    "    n_folds=10,\n",
    "    shuffle=True\n",
    ")\n",
    "\n",
    "do_cv_and_get_metrics_classification(\n",
    "    classifier=my_knn, \n",
    "    cv_splits=cv_splits, \n",
    "    X_train=X_train, \n",
    "    y_train=y_train,\n",
    "    X_test=X_test,\n",
    "    y_test=y_test,\n",
    "    scaler=MinMaxScaler(),\n",
    "    title=' My KNN - Euclidian Distance - K=1 '\n",
    ")"
   ]
  },
  {
   "cell_type": "code",
   "execution_count": 10,
   "metadata": {},
   "outputs": [
    {
     "name": "stdout",
     "output_type": "stream",
     "text": [
      "#---------- Sklearn KNN - Euclidian Distance - K=1 ----------#\n",
      "\n",
      "--->\tTraining Metrics\n",
      "Accuracy Mean:     \t0.9710 | Accuracy Std:   \t0.0060\n",
      "Recall Mean:     \t0.9516 | Recall Std:       \t0.0062\n",
      "Precision Mean:     \t0.9105 | Precision Std:   \t0.0240\n",
      "F1 Score Mean:     \t0.9305 | F1 Score Std:   \t0.0142\n",
      "\n",
      "--->\tValidation Metrics\n",
      "Accuracy Mean:     \t0.7720 | Accuracy Std:   \t0.0319\n",
      "Recall Mean:     \t0.4694 | Recall Std:       \t0.2013\n",
      "Precision Mean:     \t0.4242 | Precision Std:   \t0.1596\n",
      "F1 Score Mean:     \t0.4381 | F1 Score Std:   \t0.1721\n",
      "\n",
      "--->\tTest Metrics\n",
      "Accuracy:     \t0.8190\n",
      "Recall:     \t0.5909\n",
      "Precision:     \t0.5652\n",
      "F1 Score:     \t0.5778\n"
     ]
    }
   ],
   "source": [
    "# TO CHECK\n",
    "from sklearn.neighbors import KNeighborsClassifier\n",
    "sk_knn = KNeighborsClassifier(1)\n",
    "\n",
    "cv_splits = kfolds_cross_validation(\n",
    "    data=X_train,\n",
    "    n_folds=10,\n",
    "    shuffle=True\n",
    ")\n",
    "\n",
    "do_cv_and_get_metrics_classification(\n",
    "    classifier=sk_knn, \n",
    "    cv_splits=cv_splits, \n",
    "    X_train=X_train, \n",
    "    y_train=y_train,\n",
    "    X_test=X_test,\n",
    "    y_test=y_test, \n",
    "    scaler=MinMaxScaler(),\n",
    "    title=' Sklearn KNN - Euclidian Distance - K=1 '\n",
    ")"
   ]
  },
  {
   "cell_type": "markdown",
   "metadata": {},
   "source": [
    "The slight differences in metrics occur because Sklearn chooses randonly the first label with the minimum distance of a specific X. If we get more than one example with minimum distance, it might diverge for my implementation. In my implementation i am always using the negative class if it is contained in the subset of minimum distances."
   ]
  },
  {
   "cell_type": "markdown",
   "metadata": {},
   "source": [
    "## K=1 and Mahalanobis Distance"
   ]
  },
  {
   "cell_type": "code",
   "execution_count": 11,
   "metadata": {},
   "outputs": [
    {
     "name": "stdout",
     "output_type": "stream",
     "text": [
      "#------------My KNN - Mahalanobis Distance - K=1 ------------#\n",
      "\n",
      "--->\tTraining Metrics\n",
      "Accuracy Mean:     \t0.9832 | Accuracy Std:   \t0.0024\n",
      "Recall Mean:     \t0.9177 | Recall Std:       \t0.0113\n",
      "Precision Mean:     \t1.0000 | Precision Std:   \t0.0000\n",
      "F1 Score Mean:     \t0.9570 | F1 Score Std:   \t0.0061\n",
      "\n",
      "--->\tValidation Metrics\n",
      "Accuracy Mean:     \t0.8153 | Accuracy Std:   \t0.0549\n",
      "Recall Mean:     \t0.3805 | Recall Std:       \t0.2045\n",
      "Precision Mean:     \t0.5444 | Precision Std:   \t0.1814\n",
      "F1 Score Mean:     \t0.4295 | F1 Score Std:   \t0.1848\n",
      "\n",
      "--->\tTest Metrics\n",
      "Accuracy:     \t0.8190\n",
      "Recall:     \t0.4545\n",
      "Precision:     \t0.5882\n",
      "F1 Score:     \t0.5128\n"
     ]
    }
   ],
   "source": [
    "my_knn = MyKNN(1, distance='mahalanobis')\n",
    "\n",
    "cv_splits = kfolds_cross_validation(\n",
    "    data=X_train,\n",
    "    n_folds=10,\n",
    "    shuffle=True\n",
    ")\n",
    "\n",
    "do_cv_and_get_metrics_classification(\n",
    "    classifier=my_knn, \n",
    "    cv_splits=cv_splits, \n",
    "    X_train=X_train, \n",
    "    y_train=y_train,\n",
    "    X_test=X_test,\n",
    "    y_test=y_test,\n",
    "    scaler=MinMaxScaler(),\n",
    "    title='My KNN - Mahalanobis Distance - K=1 '\n",
    ")"
   ]
  },
  {
   "cell_type": "code",
   "execution_count": 12,
   "metadata": {},
   "outputs": [
    {
     "name": "stdout",
     "output_type": "stream",
     "text": [
      "SKLEARN - KNN with Mahalanobis Distance and K=1 (To check)\n",
      "\n",
      "--->\tTest Metrics\n",
      "Accuracy:     \t0.8190\n",
      "Recall:     \t0.4545\n",
      "Precision:     \t0.5882\n",
      "F1 Score:     \t0.5128\n"
     ]
    }
   ],
   "source": [
    "# TO CHECK\n",
    "scaler = MinMaxScaler()\n",
    "X_train_scaled = scaler.fit_transform(X_train)\n",
    "\n",
    "sk_knn = KNeighborsClassifier(1, metric='mahalanobis', metric_params={'VI': np.linalg.pinv(np.cov(X_train_scaled.T))})\n",
    "\n",
    "sk_knn.fit(X_train_scaled, y_train.ravel())\n",
    "\n",
    "X_test_scaled = scaler.transform(X_test)\n",
    "y_test_pred = sk_knn.predict(X_test_scaled)\n",
    "\n",
    "print('SKLEARN - KNN with Mahalanobis Distance and K=1 (To check)')\n",
    "print('\\n--->\\tTest Metrics')\n",
    "print('Accuracy:     \\t{0:.4f}'.format(accuracy(y_test, y_test_pred)))\n",
    "print('Recall:     \\t{0:.4f}'.format(recall(y_test, y_test_pred)))\n",
    "print('Precision:     \\t{0:.4f}'.format(precision(y_test, y_test_pred)))\n",
    "print('F1 Score:     \\t{0:.4f}'.format(f1_score(y_test, y_test_pred)))"
   ]
  }
 ],
 "metadata": {
  "interpreter": {
   "hash": "7d84fc3ab72c8387ddb373470e784917d8b759f8763a65d23fac12a2e8075760"
  },
  "kernelspec": {
   "display_name": "Python 3.8.12 ('ml-project')",
   "language": "python",
   "name": "python3"
  },
  "language_info": {
   "codemirror_mode": {
    "name": "ipython",
    "version": 3
   },
   "file_extension": ".py",
   "mimetype": "text/x-python",
   "name": "python",
   "nbconvert_exporter": "python",
   "pygments_lexer": "ipython3",
   "version": "3.10.12"
  },
  "orig_nbformat": 4
 },
 "nbformat": 4,
 "nbformat_minor": 2
}
