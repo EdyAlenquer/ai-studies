{
 "cells": [
  {
   "cell_type": "markdown",
   "metadata": {},
   "source": [
    "# Gaussian Discriminant Analysis"
   ]
  },
  {
   "cell_type": "markdown",
   "metadata": {},
   "source": [
    "# Imports"
   ]
  },
  {
   "cell_type": "code",
   "execution_count": 1,
   "metadata": {},
   "outputs": [],
   "source": [
    "import sys\n",
    "import numpy as np\n",
    "import matplotlib.pyplot as plt\n",
    "\n",
    "sys.path.append('../')\n",
    "\n",
    "from utils.preprocessing import train_test_split, kfolds_cross_validation\n",
    "from utils.output_utils import do_cv_and_get_metrics_classification"
   ]
  },
  {
   "cell_type": "markdown",
   "metadata": {},
   "source": [
    "# Process"
   ]
  },
  {
   "cell_type": "code",
   "execution_count": 2,
   "metadata": {},
   "outputs": [
    {
     "name": "stdout",
     "output_type": "stream",
     "text": [
      "Shape: (569, 31)\n"
     ]
    }
   ],
   "source": [
    "data = np.genfromtxt('./data/breastcancer.csv', delimiter=',')\n",
    "print('Shape:', data.shape)\n",
    "data[:2,:]\n",
    "X = data[:, :-1]\n",
    "y = data[:, [-1]]"
   ]
  },
  {
   "cell_type": "code",
   "execution_count": 3,
   "metadata": {},
   "outputs": [
    {
     "name": "stdout",
     "output_type": "stream",
     "text": [
      "X_train shape: (455, 30)\n",
      "y_train shape: (455, 1)\n",
      "X_test shape: (114, 30)\n",
      "y_test shape: (114, 1)\n"
     ]
    }
   ],
   "source": [
    "X_train, X_test, y_train, y_test = train_test_split(X, y, 0.8, random_seed=64825)\n",
    "\n",
    "cv_splits = kfolds_cross_validation(\n",
    "    data=X_train,\n",
    "    n_folds=10,\n",
    "    shuffle=True\n",
    ")\n",
    "\n",
    "print('X_train shape:', X_train.shape)\n",
    "print('y_train shape:', y_train.shape)\n",
    "print('X_test shape:', X_test.shape)\n",
    "print('y_test shape:', y_test.shape)"
   ]
  },
  {
   "cell_type": "code",
   "execution_count": 4,
   "metadata": {},
   "outputs": [],
   "source": [
    "class MyGaussianDiscriminantAnalysis():\n",
    "    def __init__(self):        \n",
    "        pass\n",
    "\n",
    "    def calculate_sigma(self, X, mu):\n",
    "        n_features = X.shape[1]\n",
    "        n_rows = X.shape[0]\n",
    "        sigma=np.zeros((n_features, n_features))\n",
    "\n",
    "        for i in range(n_rows):\n",
    "            x_i = X[i,:].reshape(n_features, 1)\n",
    "            sigma += (x_i-mu) @ (x_i-mu).T\n",
    "\n",
    "        return sigma/(n_rows-1)\n",
    "\n",
    "\n",
    "    def fit(self, X, y):\n",
    "        \n",
    "        if len(y.shape)==1:\n",
    "            y = y.reshape(-1, 1)\n",
    "\n",
    "        classes = np.unique(y)\n",
    "        self.class_dict = {classes[i]: i for i in range(len(classes))}\n",
    "\n",
    "        n_features = X.shape[1]\n",
    "\n",
    "        # n_classes\n",
    "        self.phi = np.zeros((len(classes), 1)) \n",
    "        # n_classes x n_features\n",
    "        self.mu = np.zeros((len(classes), n_features)) \n",
    "        # n_classes x n_features\n",
    "        self.sigma = np.zeros((len(classes), n_features, n_features)) \n",
    "\n",
    "        for label in classes:\n",
    "            \n",
    "            k = self.class_dict[label]\n",
    "\n",
    "            X_class = X[np.where(y==k)[0], :]\n",
    "            y_class = y[np.where(y==k)[0], :]\n",
    "            \n",
    "            self.phi[k] = len(y_class) / len(y)\n",
    "            self.mu[k] = np.mean(X_class, axis=0)\n",
    "            self.sigma[k] = self.calculate_sigma(X_class, self.mu[k].reshape(-1, 1))\n",
    "            # self.sigma[k] = np.cov(X_class.T)\n",
    "            \n",
    "\n",
    "    def predict(self, X):\n",
    "\n",
    "        classes = list(self.class_dict.keys())\n",
    "        prob_classes = np.zeros((X.shape[0], len(classes)))\n",
    "        for i, label in enumerate(classes):\n",
    "\n",
    "            k = self.class_dict[label]\n",
    "            sigma_det = np.linalg.det(self.sigma[k])\n",
    "            sigma_inv = np.linalg.pinv(self.sigma[k])\n",
    "            mu = self.mu[[k]]\n",
    "\n",
    "            first_part = -(1/2)*np.log(sigma_det)\n",
    "            second_part = -(1/2)*np.sum(((X-mu) @ sigma_inv) * (X-mu), axis=1)\n",
    "            third_part = np.log(self.phi[k])\n",
    "            \n",
    "            pred = first_part + second_part + third_part\n",
    "            prob_classes[:, i] = pred\n",
    "\n",
    "        preds = []\n",
    "        for i in range(prob_classes.shape[0]):\n",
    "            argmax = np.argmax(prob_classes[i, :])\n",
    "            preds.append(classes[argmax])\n",
    "            \n",
    "        return np.array(preds).reshape(-1, 1)\n"
   ]
  },
  {
   "cell_type": "code",
   "execution_count": 5,
   "metadata": {},
   "outputs": [
    {
     "name": "stdout",
     "output_type": "stream",
     "text": [
      "#-------------My Gaussian Discriminant Analysis--------------#\n",
      "\n",
      "--->\tTraining Metrics\n",
      "Accuracy Mean:     \t0.9753 | Accuracy Std:   \t0.0023\n",
      "Recall Mean:     \t0.9920 | Recall Std:       \t0.0018\n",
      "Precision Mean:     \t0.9684 | Precision Std:   \t0.0034\n",
      "F1 Score Mean:     \t0.9800 | F1 Score Std:   \t0.0020\n",
      "\n",
      "--->\tValidation Metrics\n",
      "Accuracy Mean:     \t0.9516 | Accuracy Std:   \t0.0213\n",
      "Recall Mean:     \t0.9636 | Recall Std:       \t0.0378\n",
      "Precision Mean:     \t0.9571 | Precision Std:   \t0.0308\n",
      "F1 Score Mean:     \t0.9595 | F1 Score Std:   \t0.0199\n",
      "\n",
      "--->\tTest Metrics\n",
      "Accuracy:     \t0.9912\n",
      "Recall:     \t0.9873\n",
      "Precision:     \t1.0000\n",
      "F1 Score:     \t0.9936\n"
     ]
    }
   ],
   "source": [
    "do_cv_and_get_metrics_classification(\n",
    "    classifier=MyGaussianDiscriminantAnalysis(), \n",
    "    cv_splits=cv_splits, \n",
    "    X_train=X_train, \n",
    "    y_train=y_train,\n",
    "    X_test=X_test,\n",
    "    y_test=y_test,\n",
    "    title='My Gaussian Discriminant Analysis'\n",
    ")"
   ]
  },
  {
   "cell_type": "code",
   "execution_count": 6,
   "metadata": {},
   "outputs": [
    {
     "name": "stdout",
     "output_type": "stream",
     "text": [
      "#----------Sklearn - Gaussian Discriminant Analysis----------#\n",
      "\n",
      "--->\tTraining Metrics\n",
      "Accuracy Mean:     \t0.9753 | Accuracy Std:   \t0.0023\n",
      "Recall Mean:     \t0.9920 | Recall Std:       \t0.0018\n",
      "Precision Mean:     \t0.9684 | Precision Std:   \t0.0034\n",
      "F1 Score Mean:     \t0.9800 | F1 Score Std:   \t0.0020\n",
      "\n",
      "--->\tValidation Metrics\n",
      "Accuracy Mean:     \t0.9516 | Accuracy Std:   \t0.0213\n",
      "Recall Mean:     \t0.9636 | Recall Std:       \t0.0378\n",
      "Precision Mean:     \t0.9571 | Precision Std:   \t0.0308\n",
      "F1 Score Mean:     \t0.9595 | F1 Score Std:   \t0.0199\n",
      "\n",
      "--->\tTest Metrics\n",
      "Accuracy:     \t0.9912\n",
      "Recall:     \t0.9873\n",
      "Precision:     \t1.0000\n",
      "F1 Score:     \t0.9936\n"
     ]
    }
   ],
   "source": [
    "# TO COMPARE\n",
    "from sklearn.discriminant_analysis import QuadraticDiscriminantAnalysis\n",
    "\n",
    "do_cv_and_get_metrics_classification(\n",
    "    classifier=QuadraticDiscriminantAnalysis(), \n",
    "    cv_splits=cv_splits, \n",
    "    X_train=X_train, \n",
    "    y_train=y_train,\n",
    "    X_test=X_test,\n",
    "    y_test=y_test,\n",
    "    title='Sklearn - Gaussian Discriminant Analysis'\n",
    ")"
   ]
  }
 ],
 "metadata": {
  "interpreter": {
   "hash": "7d84fc3ab72c8387ddb373470e784917d8b759f8763a65d23fac12a2e8075760"
  },
  "kernelspec": {
   "display_name": "Python 3.8.12 ('ml-project')",
   "language": "python",
   "name": "python3"
  },
  "language_info": {
   "codemirror_mode": {
    "name": "ipython",
    "version": 3
   },
   "file_extension": ".py",
   "mimetype": "text/x-python",
   "name": "python",
   "nbconvert_exporter": "python",
   "pygments_lexer": "ipython3",
   "version": "3.10.12"
  },
  "orig_nbformat": 4
 },
 "nbformat": 4,
 "nbformat_minor": 2
}
