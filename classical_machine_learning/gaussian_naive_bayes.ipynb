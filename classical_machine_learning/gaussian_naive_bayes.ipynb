{
 "cells": [
  {
   "cell_type": "markdown",
   "metadata": {},
   "source": [
    "# Gaussian Naive Bayes"
   ]
  },
  {
   "cell_type": "markdown",
   "metadata": {},
   "source": [
    "# Imports"
   ]
  },
  {
   "cell_type": "code",
   "execution_count": 1,
   "metadata": {},
   "outputs": [],
   "source": [
    "import sys\n",
    "import numpy as np\n",
    "import matplotlib.pyplot as plt\n",
    "\n",
    "sys.path.append('../')\n",
    "\n",
    "from utils.preprocessing import train_test_split, kfolds_cross_validation\n",
    "from utils.output_utils import do_cv_and_get_metrics_classification"
   ]
  },
  {
   "cell_type": "markdown",
   "metadata": {},
   "source": [
    "# Process"
   ]
  },
  {
   "cell_type": "code",
   "execution_count": 2,
   "metadata": {},
   "outputs": [
    {
     "name": "stdout",
     "output_type": "stream",
     "text": [
      "Shape: (569, 31)\n"
     ]
    }
   ],
   "source": [
    "data = np.genfromtxt('./data/breastcancer.csv', delimiter=',')\n",
    "print('Shape:', data.shape)\n",
    "data[:2,:]\n",
    "X = data[:, :-1]\n",
    "y = data[:, [-1]]"
   ]
  },
  {
   "cell_type": "code",
   "execution_count": 3,
   "metadata": {},
   "outputs": [
    {
     "name": "stdout",
     "output_type": "stream",
     "text": [
      "X_train shape: (455, 30)\n",
      "y_train shape: (455, 1)\n",
      "X_test shape: (114, 30)\n",
      "y_test shape: (114, 1)\n"
     ]
    }
   ],
   "source": [
    "X_train, X_test, y_train, y_test = train_test_split(X, y, 0.8, random_seed=64825)\n",
    "\n",
    "cv_splits = kfolds_cross_validation(\n",
    "    data=X_train,\n",
    "    n_folds=10,\n",
    "    shuffle=True\n",
    ")\n",
    "\n",
    "print('X_train shape:', X_train.shape)\n",
    "print('y_train shape:', y_train.shape)\n",
    "print('X_test shape:', X_test.shape)\n",
    "print('y_test shape:', y_test.shape)"
   ]
  },
  {
   "cell_type": "code",
   "execution_count": 4,
   "metadata": {},
   "outputs": [],
   "source": [
    "class MyGaussianNaiveBayes():\n",
    "    def __init__(self):        \n",
    "        pass\n",
    "\n",
    "    def fit(self, X, y):\n",
    "\n",
    "        if len(y.shape) == 1:\n",
    "            y = y.reshape(-1, 1)\n",
    "        \n",
    "        classes = np.unique(y)\n",
    "        self.class_to_idx_dict = {classes[i]: i for i in range(len(classes))}\n",
    "\n",
    "        n_features = X.shape[1]\n",
    "\n",
    "        self.prob_class = np.zeros((len(classes), 1)) # n_classes x 1\n",
    "        self.mu = np.zeros((len(classes), n_features)) # n_classes x n_features\n",
    "        self.std = np.zeros((len(classes), n_features)) # n_classes x n_features\n",
    "\n",
    "        for label in classes:\n",
    "\n",
    "            k = self.class_to_idx_dict[label]\n",
    "\n",
    "            X_class = X[np.where(y==label)[0], :]\n",
    "            y_class = y[np.where(y==label)[0], :]\n",
    "            \n",
    "            self.prob_class[k] = len(y_class) / len(y)\n",
    "            self.mu[k] = np.mean(X_class, axis=0)\n",
    "            self.std[k] = np.std(X_class, axis=0)\n",
    "\n",
    "\n",
    "    def predict(self, X):\n",
    "\n",
    "        idx_to_class = {v: k for k, v in self.class_to_idx_dict.items()}\n",
    "        prob_classes = np.zeros((X.shape[0], len(idx_to_class)))\n",
    "\n",
    "        for i, label in enumerate(idx_to_class.values()):\n",
    "\n",
    "            k = self.class_to_idx_dict[label]\n",
    "            mu = self.mu[[k]]\n",
    "            std = self.std[[k]]\n",
    "            prior = self.prob_class[k]\n",
    "\n",
    "            for idx, x in enumerate(X):\n",
    "\n",
    "                first_part = np.log(prior)\n",
    "                second_part = -(1/2) * np.sum(np.log(2*np.pi*(std**2)), axis=1)\n",
    "                third_part = -(1/2) * np.sum(((x - mu)**2)/(std**2), axis=1)\n",
    "                \n",
    "                pred = first_part + second_part + third_part\n",
    "                prob_classes[idx, i] = pred\n",
    "                \n",
    "\n",
    "        preds = []\n",
    "\n",
    "        for i in range(prob_classes.shape[0]):\n",
    "            argmax = np.argmax(prob_classes[i, :])\n",
    "            preds.append(idx_to_class[argmax])\n",
    "            \n",
    "        return np.array(preds).reshape(-1, 1)"
   ]
  },
  {
   "cell_type": "code",
   "execution_count": 5,
   "metadata": {},
   "outputs": [
    {
     "name": "stdout",
     "output_type": "stream",
     "text": [
      "#------------------My Gaussian Naive Bayes-------------------#\n",
      "\n",
      "--->\tTraining Metrics\n",
      "Accuracy Mean:     \t0.9355 | Accuracy Std:   \t0.0058\n",
      "Recall Mean:     \t0.9664 | Recall Std:       \t0.0065\n",
      "Precision Mean:     \t0.9307 | Precision Std:   \t0.0046\n",
      "F1 Score Mean:     \t0.9482 | F1 Score Std:   \t0.0046\n",
      "\n",
      "--->\tValidation Metrics\n",
      "Accuracy Mean:     \t0.9275 | Accuracy Std:   \t0.0446\n",
      "Recall Mean:     \t0.9531 | Recall Std:       \t0.0574\n",
      "Precision Mean:     \t0.9295 | Precision Std:   \t0.0428\n",
      "F1 Score Mean:     \t0.9402 | F1 Score Std:   \t0.0408\n",
      "\n",
      "--->\tTest Metrics\n",
      "Accuracy:     \t0.9649\n",
      "Recall:     \t0.9747\n",
      "Precision:     \t0.9747\n",
      "F1 Score:     \t0.9747\n"
     ]
    },
    {
     "name": "stderr",
     "output_type": "stream",
     "text": [
      "/tmp/ipykernel_4927/902035125.py:50: DeprecationWarning: Conversion of an array with ndim > 0 to a scalar is deprecated, and will error in future. Ensure you extract a single element from your array before performing this operation. (Deprecated NumPy 1.25.)\n",
      "  prob_classes[idx, i] = pred\n"
     ]
    }
   ],
   "source": [
    "do_cv_and_get_metrics_classification(\n",
    "    classifier=MyGaussianNaiveBayes(), \n",
    "    cv_splits=cv_splits, \n",
    "    X_train=X_train, \n",
    "    y_train=y_train,\n",
    "    X_test=X_test,\n",
    "    y_test=y_test,\n",
    "    title='My Gaussian Naive Bayes'\n",
    ")"
   ]
  },
  {
   "cell_type": "code",
   "execution_count": 6,
   "metadata": {},
   "outputs": [
    {
     "name": "stdout",
     "output_type": "stream",
     "text": [
      "#---------------Sklearn - Gaussian Naive Bayes---------------#\n",
      "\n",
      "--->\tTraining Metrics\n",
      "Accuracy Mean:     \t0.9355 | Accuracy Std:   \t0.0058\n",
      "Recall Mean:     \t0.9664 | Recall Std:       \t0.0065\n",
      "Precision Mean:     \t0.9307 | Precision Std:   \t0.0046\n",
      "F1 Score Mean:     \t0.9482 | F1 Score Std:   \t0.0046\n",
      "\n",
      "--->\tValidation Metrics\n",
      "Accuracy Mean:     \t0.9275 | Accuracy Std:   \t0.0446\n",
      "Recall Mean:     \t0.9531 | Recall Std:       \t0.0574\n",
      "Precision Mean:     \t0.9295 | Precision Std:   \t0.0428\n",
      "F1 Score Mean:     \t0.9402 | F1 Score Std:   \t0.0408\n",
      "\n",
      "--->\tTest Metrics\n",
      "Accuracy:     \t0.9649\n",
      "Recall:     \t0.9747\n",
      "Precision:     \t0.9747\n",
      "F1 Score:     \t0.9747\n"
     ]
    }
   ],
   "source": [
    "# TO COMPARE\n",
    "from sklearn.naive_bayes import GaussianNB\n",
    "\n",
    "do_cv_and_get_metrics_classification(\n",
    "    classifier=GaussianNB(var_smoothing=1e-13),\n",
    "    cv_splits=cv_splits, \n",
    "    X_train=X_train, \n",
    "    y_train=y_train,\n",
    "    X_test=X_test,\n",
    "    y_test=y_test,\n",
    "    title='Sklearn - Gaussian Naive Bayes'\n",
    ")"
   ]
  }
 ],
 "metadata": {
  "interpreter": {
   "hash": "7d84fc3ab72c8387ddb373470e784917d8b759f8763a65d23fac12a2e8075760"
  },
  "kernelspec": {
   "display_name": "Python 3.8.12 ('ml-project')",
   "language": "python",
   "name": "python3"
  },
  "language_info": {
   "codemirror_mode": {
    "name": "ipython",
    "version": 3
   },
   "file_extension": ".py",
   "mimetype": "text/x-python",
   "name": "python",
   "nbconvert_exporter": "python",
   "pygments_lexer": "ipython3",
   "version": "3.10.12"
  },
  "orig_nbformat": 4
 },
 "nbformat": 4,
 "nbformat_minor": 2
}
