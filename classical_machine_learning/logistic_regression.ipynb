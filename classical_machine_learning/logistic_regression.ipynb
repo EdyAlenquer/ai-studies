{
 "cells": [
  {
   "cell_type": "markdown",
   "metadata": {},
   "source": [
    "# Logistic Regression\n"
   ]
  },
  {
   "cell_type": "markdown",
   "metadata": {},
   "source": [
    "# Imports"
   ]
  },
  {
   "cell_type": "code",
   "execution_count": 1,
   "metadata": {},
   "outputs": [],
   "source": [
    "import sys\n",
    "import numpy as np\n",
    "import matplotlib.pyplot as plt\n",
    "\n",
    "sys.path.append('../')\n",
    "\n",
    "from utils.metrics import cross_entropy_loss\n",
    "from utils.scalers import StandardScaler\n",
    "from utils.preprocessing import train_test_split, kfolds_cross_validation\n",
    "from utils.activation_functions import Sigmoid\n",
    "from utils.output_utils import do_cv_and_get_metrics_classification"
   ]
  },
  {
   "cell_type": "markdown",
   "metadata": {},
   "source": [
    "# Process"
   ]
  },
  {
   "cell_type": "code",
   "execution_count": 2,
   "metadata": {},
   "outputs": [
    {
     "name": "stdout",
     "output_type": "stream",
     "text": [
      "Shape: (569, 31)\n"
     ]
    }
   ],
   "source": [
    "data = np.genfromtxt('./data/breastcancer.csv', delimiter=',')\n",
    "print('Shape:', data.shape)\n",
    "data[:2,:]\n",
    "X = data[:, :-1]\n",
    "y = data[:, [-1]]"
   ]
  },
  {
   "cell_type": "code",
   "execution_count": 3,
   "metadata": {},
   "outputs": [
    {
     "name": "stdout",
     "output_type": "stream",
     "text": [
      "X_train shape: (455, 30)\n",
      "y_train shape: (455, 1)\n",
      "X_test shape: (114, 30)\n",
      "y_test shape: (114, 1)\n"
     ]
    }
   ],
   "source": [
    "X_train, X_test, y_train, y_test = train_test_split(X, y, 0.8, random_seed=5482)\n",
    "\n",
    "cv_splits = kfolds_cross_validation(\n",
    "    data=X_train,\n",
    "    n_folds=10,\n",
    "    shuffle=True\n",
    ")\n",
    "\n",
    "print('X_train shape:', X_train.shape)\n",
    "print('y_train shape:', y_train.shape)\n",
    "print('X_test shape:', X_test.shape)\n",
    "print('y_test shape:', y_test.shape)"
   ]
  },
  {
   "cell_type": "code",
   "execution_count": 4,
   "metadata": {},
   "outputs": [],
   "source": [
    "class MyLogisticRegression():\n",
    "    def __init__(\n",
    "        self, \n",
    "        alpha, \n",
    "        n_iterations\n",
    "    ):        \n",
    "        self.alpha = alpha        \n",
    "        self.n_iterations = n_iterations\n",
    "\n",
    "    def initialize(self, X, y, random_state=654812):\n",
    "        rnd_state = np.random.RandomState(random_state)\n",
    "        self.X = np.hstack(\n",
    "            [np.ones((X.shape[0], 1)), X]\n",
    "        )\n",
    "        self.y = y.reshape(-1, 1)\n",
    "\n",
    "        self.w = np.zeros((np.shape(X)[1]+1,1))\n",
    "        # self.w = rnd_state.uniform(0, 1, self.X.shape[1]).reshape(-1, 1)\n",
    "\n",
    "    def fit(self, X, y, random_state=654812):\n",
    "        \n",
    "        if len(y.shape)==1:\n",
    "            y = y.reshape(-1, 1)\n",
    "            \n",
    "        self.initialize(X, y, random_state)\n",
    "        self.gradient_descent()\n",
    "\n",
    "    def gradient_descent(self):\n",
    "        self.loss_by_iteration = []\n",
    "        for i in range(self.n_iterations):\n",
    "            actual_y_pred_proba = Sigmoid.get_value(self.X @ self.w)\n",
    "            e = (self.y - actual_y_pred_proba) \n",
    "            \n",
    "            grad = ((1/len(self.y)) * self.alpha * (e.T @ self.X))\n",
    "            grad = grad.reshape(-1, 1)\n",
    "            self.w = self.w + grad \n",
    "            \n",
    "\n",
    "            new_y_pred_proba = Sigmoid.get_value(self.X @ self.w)\n",
    "            self.loss_by_iteration.append(\n",
    "                cross_entropy_loss(self.y, new_y_pred_proba)\n",
    "            )\n",
    "\n",
    "    def predict_proba(self, X):\n",
    "        X = np.hstack(\n",
    "            [np.ones((X.shape[0], 1)), X]\n",
    "        )\n",
    "        predict_proba = Sigmoid.get_value(X @ self.w)\n",
    "        return predict_proba\n",
    "\n",
    "    def predict(self, X, threshold=0.5):\n",
    "        X = np.hstack(\n",
    "            [np.ones((X.shape[0], 1)), X]\n",
    "        )\n",
    "        predict_proba = Sigmoid.get_value(X @ self.w)\n",
    "        predict_label = np.where(predict_proba>threshold, 1, 0)\n",
    "        return predict_label\n",
    "\n"
   ]
  },
  {
   "cell_type": "code",
   "execution_count": 5,
   "metadata": {},
   "outputs": [
    {
     "name": "stdout",
     "output_type": "stream",
     "text": [
      "#-------------------My Logistic Regression-------------------#\n",
      "\n",
      "--->\tTraining Metrics\n",
      "Accuracy Mean:     \t0.9768 | Accuracy Std:   \t0.0027\n",
      "Recall Mean:     \t0.9924 | Recall Std:       \t0.0021\n",
      "Precision Mean:     \t0.9704 | Precision Std:   \t0.0030\n",
      "F1 Score Mean:     \t0.9813 | F1 Score Std:   \t0.0022\n",
      "\n",
      "--->\tValidation Metrics\n",
      "Accuracy Mean:     \t0.9757 | Accuracy Std:   \t0.0232\n",
      "Recall Mean:     \t0.9924 | Recall Std:       \t0.0153\n",
      "Precision Mean:     \t0.9694 | Precision Std:   \t0.0309\n",
      "F1 Score Mean:     \t0.9805 | F1 Score Std:   \t0.0190\n",
      "\n",
      "--->\tTest Metrics\n",
      "Accuracy:     \t1.0000\n",
      "Recall:     \t1.0000\n",
      "Precision:     \t1.0000\n",
      "F1 Score:     \t1.0000\n"
     ]
    }
   ],
   "source": [
    "my_reg_log = MyLogisticRegression(alpha=0.001, n_iterations=10000)\n",
    "do_cv_and_get_metrics_classification(\n",
    "    classifier=my_reg_log, \n",
    "    cv_splits=cv_splits, \n",
    "    X_train=X_train, \n",
    "    y_train=y_train,\n",
    "    X_test=X_test,\n",
    "    y_test=y_test,\n",
    "    scaler=StandardScaler(),\n",
    "    title='My Logistic Regression'\n",
    ")"
   ]
  },
  {
   "cell_type": "code",
   "execution_count": 6,
   "metadata": {},
   "outputs": [
    {
     "data": {
      "text/plain": [
       "[<matplotlib.lines.Line2D at 0x7f9307f84220>]"
      ]
     },
     "execution_count": 6,
     "metadata": {},
     "output_type": "execute_result"
    },
    {
     "data": {
      "image/png": "[encoded data removed]",
      "text/plain": [
       "<Figure size 640x480 with 1 Axes>"
      ]
     },
     "metadata": {},
     "output_type": "display_data"
    }
   ],
   "source": [
    "plt.plot(my_reg_log.loss_by_iteration)"
   ]
  },
  {
   "cell_type": "markdown",
   "metadata": {},
   "source": [
    "## Scikit-Learn Logistic Regression"
   ]
  },
  {
   "cell_type": "code",
   "execution_count": 7,
   "metadata": {},
   "outputs": [
    {
     "name": "stdout",
     "output_type": "stream",
     "text": [
      "#----------------Sklearn Logistic Regression-----------------#\n",
      "\n",
      "--->\tTraining Metrics\n",
      "Accuracy Mean:     \t0.9861 | Accuracy Std:   \t0.0027\n",
      "Recall Mean:     \t0.9952 | Recall Std:       \t0.0039\n",
      "Precision Mean:     \t0.9823 | Precision Std:   \t0.0019\n",
      "F1 Score Mean:     \t0.9887 | F1 Score Std:   \t0.0022\n",
      "\n",
      "--->\tValidation Metrics\n",
      "Accuracy Mean:     \t0.9735 | Accuracy Std:   \t0.0217\n",
      "Recall Mean:     \t0.9848 | Recall Std:       \t0.0306\n",
      "Precision Mean:     \t0.9729 | Precision Std:   \t0.0245\n",
      "F1 Score Mean:     \t0.9784 | F1 Score Std:   \t0.0193\n",
      "\n",
      "--->\tTest Metrics\n",
      "Accuracy:     \t0.9912\n",
      "Recall:     \t0.9872\n",
      "Precision:     \t1.0000\n",
      "F1 Score:     \t0.9935\n"
     ]
    }
   ],
   "source": [
    "# TO COMPARE\n",
    "from sklearn.linear_model import LogisticRegression\n",
    "\n",
    "reg_log = LogisticRegression()\n",
    "scaler = StandardScaler()\n",
    "do_cv_and_get_metrics_classification(\n",
    "    classifier=reg_log, \n",
    "    cv_splits=cv_splits, \n",
    "    X_train=X_train, \n",
    "    y_train=y_train,\n",
    "    X_test=X_test,\n",
    "    y_test=y_test,\n",
    "    scaler=scaler,\n",
    "    title='Sklearn Logistic Regression'\n",
    ")"
   ]
  }
 ],
 "metadata": {
  "interpreter": {
   "hash": "7d84fc3ab72c8387ddb373470e784917d8b759f8763a65d23fac12a2e8075760"
  },
  "kernelspec": {
   "display_name": "Python 3.8.12 ('ml-project')",
   "language": "python",
   "name": "python3"
  },
  "language_info": {
   "codemirror_mode": {
    "name": "ipython",
    "version": 3
   },
   "file_extension": ".py",
   "mimetype": "text/x-python",
   "name": "python",
   "nbconvert_exporter": "python",
   "pygments_lexer": "ipython3",
   "version": "3.10.12"
  },
  "orig_nbformat": 4
 },
 "nbformat": 4,
 "nbformat_minor": 2
}
